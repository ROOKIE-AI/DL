{
 "cells": [
  {
   "cell_type": "markdown",
   "metadata": {},
   "source": [
    "# SoftMax 回归 "
   ]
  },
  {
   "cell_type": "markdown",
   "metadata": {},
   "source": [
    "<b/>从回归到多分类</b><br>\n",
    "\n",
    "回归\n",
    "* 单连续数值输出\n",
    "* 自然区间R\n",
    "* 跟真实值的区别作为损失\n",
    "\n",
    "分类\n",
    "* 通常多个输出\n",
    "* 输出i是预测为第i类的置信度"
   ]
  },
  {
   "cell_type": "markdown",
   "metadata": {},
   "source": [
    "<b> 均方损失</b><br>\n",
    "* 对类别进行一位有效编码\n",
    "* 使用均方损失训练\n",
    "* 最大值最为预测\n",
    "    * $\\hat{y} = argmax o_i$"
   ]
  },
  {
   "cell_type": "markdown",
   "metadata": {},
   "source": []
  }
 ],
 "metadata": {
  "kernelspec": {
   "display_name": "d2l",
   "language": "python",
   "name": "python3"
  },
  "language_info": {
   "name": "python",
   "version": "3.8.-1"
  }
 },
 "nbformat": 4,
 "nbformat_minor": 2
}
