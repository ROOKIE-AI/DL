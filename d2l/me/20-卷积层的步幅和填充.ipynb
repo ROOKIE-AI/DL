{
 "cells": [
  {
   "cell_type": "code",
   "execution_count": 1,
   "metadata": {},
   "outputs": [],
   "source": [
    "import torch\n",
    "import torch.nn as nn\n",
    "import time"
   ]
  },
  {
   "cell_type": "code",
   "execution_count": 2,
   "metadata": {},
   "outputs": [],
   "source": [
    "# 定义测试模型\n",
    "class ConvNet3x3(nn.Module):\n",
    "    def __init__(self, in_channels, out_channels):\n",
    "        super(ConvNet3x3, self).__init__()\n",
    "        self.conv = nn.Conv2d(in_channels, out_channels, kernel_size=3, padding=1)\n",
    "    \n",
    "    def forward(self, x):\n",
    "        return self.conv(x)\n",
    "\n",
    "class ConvNet5x5(nn.Module):\n",
    "    def __init__(self, in_channels, out_channels):\n",
    "        super(ConvNet5x5, self).__init__()\n",
    "        self.conv = nn.Conv2d(in_channels, out_channels, kernel_size=5, padding=2)\n",
    "    \n",
    "    def forward(self, x):\n",
    "        return self.conv(x)"
   ]
  },
  {
   "cell_type": "code",
   "execution_count": 3,
   "metadata": {},
   "outputs": [],
   "source": [
    "device = torch.device(\"cuda\" if torch.cuda.is_available() else \"cpu\")\n",
    "# 创建输入数据\n",
    "input_data = torch.randn(100, 3, 224, 224).to(device)  # (batch_size, in_channels, height, width)"
   ]
  },
  {
   "cell_type": "code",
   "execution_count": 4,
   "metadata": {},
   "outputs": [],
   "source": [
    "# 实例化模型并移动到 GPU\n",
    "model_3x3 = ConvNet3x3(in_channels=3, out_channels=64).to(device)\n",
    "model_5x5 = ConvNet5x5(in_channels=3, out_channels=64).to(device)"
   ]
  },
  {
   "cell_type": "code",
   "execution_count": 5,
   "metadata": {},
   "outputs": [],
   "source": [
    "def measure_time(model, input_data, iterations=10):\n",
    "    # 预热 GPU\n",
    "    for _ in range(10):\n",
    "        model(input_data)\n",
    "    if torch.cuda.is_available():\n",
    "        torch.cuda.synchronize()\n",
    "\n",
    "    # 正式测量\n",
    "    start_time = time.time()\n",
    "    for _ in range(iterations):\n",
    "        output = model(input_data)\n",
    "    if torch.cuda.is_available():\n",
    "        torch.cuda.synchronize()\n",
    "    total_time = time.time() - start_time\n",
    "\n",
    "    return total_time / iterations"
   ]
  },
  {
   "cell_type": "code",
   "execution_count": 6,
   "metadata": {},
   "outputs": [
    {
     "name": "stdout",
     "output_type": "stream",
     "text": [
      "3x3 卷积核的平均前向传播时间: 0.141407 秒\n",
      "5x5 卷积核的平均前向传播时间: 0.171332 秒\n"
     ]
    }
   ],
   "source": [
    "# 测量 3x3 卷积核的前向传播时间\n",
    "time_3x3 = measure_time(model_3x3, input_data)\n",
    "# 测量 5x5 卷积核的前向传播时间\n",
    "time_5x5 = measure_time(model_5x5, input_data)\n",
    "\n",
    "print(f\"3x3 卷积核的平均前向传播时间: {time_3x3:.6f} 秒\")\n",
    "print(f\"5x5 卷积核的平均前向传播时间: {time_5x5:.6f} 秒\")"
   ]
  },
  {
   "cell_type": "code",
   "execution_count": null,
   "metadata": {},
   "outputs": [],
   "source": []
  }
 ],
 "metadata": {
  "kernelspec": {
   "display_name": "d2l",
   "language": "python",
   "name": "python3"
  },
  "language_info": {
   "codemirror_mode": {
    "name": "ipython",
    "version": 3
   },
   "file_extension": ".py",
   "mimetype": "text/x-python",
   "name": "python",
   "nbconvert_exporter": "python",
   "pygments_lexer": "ipython3",
   "version": "3.8.-1"
  }
 },
 "nbformat": 4,
 "nbformat_minor": 2
}
