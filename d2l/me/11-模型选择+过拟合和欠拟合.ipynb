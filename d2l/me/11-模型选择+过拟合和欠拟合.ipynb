{
 "cells": [
  {
   "cell_type": "markdown",
   "metadata": {},
   "source": [
    "# 模型选择 + 过拟合和欠拟合"
   ]
  },
  {
   "cell_type": "markdown",
   "metadata": {},
   "source": [
    ">通过多项式拟合来交互探索"
   ]
  },
  {
   "cell_type": "code",
   "execution_count": 1,
   "metadata": {},
   "outputs": [],
   "source": [
    "import math\n",
    "import numpy as np\n",
    "import torch\n",
    "from torch import nn, optim\n",
    "from d2l import torch as d2l"
   ]
  },
  {
   "cell_type": "code",
   "execution_count": 2,
   "metadata": {},
   "outputs": [],
   "source": [
    "# 最大拟合项\n",
    "max_degree = 20\n",
    "# 训练样本规模\n",
    "n_train, n_test = 100, 100\n",
    "# 设定真实的权重\n",
    "true_w = np.zeros(max_degree)\n",
    "true_w[:4] = np.array([5, 0.001, 0, 0])\n",
    "true_b = 2.0"
   ]
  },
  {
   "cell_type": "code",
   "execution_count": 3,
   "metadata": {},
   "outputs": [],
   "source": [
    "features = np.random.random(size=(n_train + n_test)) * 10  # 生成原始的特征\n",
    "# np.random.shuffle(features)\n",
    "features = np.sort(features).reshape(-1, 1) \n",
    "# print(features)\n",
    "# 特征工程: 生成多项式项\n",
    "poly_features = np.power(features, np.arange(1, max_degree+1).reshape(1, -1))\n",
    "# 产生标签数据\n",
    "labels = np.dot(poly_features, true_w) + true_b\n",
    "labels += np.random.normal(scale=0.1, size=labels.shape)"
   ]
  },
  {
   "cell_type": "markdown",
   "metadata": {},
   "source": [
    "> 实现一个函数来评估模型在给定数据集上的损失 "
   ]
  },
  {
   "cell_type": "code",
   "execution_count": 4,
   "metadata": {},
   "outputs": [],
   "source": [
    "class PolynomialRegression(nn.Module):\n",
    "    def __init__(self, degree):\n",
    "        super(PolynomialRegression, self).__init__()\n",
    "        self.poly = nn.Linear(degree, 1)\n",
    "    \n",
    "    def forward(self, x):\n",
    "        x = torch.Tensor(x)\n",
    "        return self.poly(x)\n",
    "\n",
    "\n",
    "def train_polynomial_regression(features, labels, degree, num_epochs, learning_rate):\n",
    "    features, labels = torch.Tensor(features), torch.Tensor(labels)\n",
    "    # Initialize the model, loss function, and optimizer\n",
    "    model = PolynomialRegression(degree)\n",
    "    criterion = nn.MSELoss()\n",
    "    optimizer = optim.SGD(model.parameters(), lr=learning_rate)\n",
    "    \n",
    "    # Training loop\n",
    "    for epoch in range(num_epochs):\n",
    "        # Forward pass\n",
    "        outputs = model(features)\n",
    "        loss = criterion(outputs, labels)\n",
    "        \n",
    "        # Backward pass and optimization\n",
    "        optimizer.zero_grad()\n",
    "        loss.backward()\n",
    "        optimizer.step()\n",
    "        \n",
    "        if (epoch+1) % 10 == 0:\n",
    "            print(f'Epoch [{epoch+1}/{num_epochs}], Loss: {loss.item():.4f}')\n",
    "    \n",
    "    return model\n"
   ]
  },
  {
   "cell_type": "code",
   "execution_count": 5,
   "metadata": {},
   "outputs": [],
   "source": [
    "# Parameters\n",
    "num_epochs = 100\n",
    "learning_rate = 0.1\n",
    "\n",
    "train_index = np.random.choice(np.arange(0, 200), 100, replace=False)\n",
    "train_index = np.sort(train_index)"
   ]
  },
  {
   "cell_type": "code",
   "execution_count": 6,
   "metadata": {},
   "outputs": [],
   "source": [
    "# 拟合项\n",
    "def overfitting_show(features, poly_features, labels, degrees, num_epochs, learning_rate):\n",
    "    \"\"\"\n",
    "    :param poly_feateures: 多项式特征\n",
    "    :param labels: 标签\n",
    "    :param degress: 特征阶数\n",
    "    ...\n",
    "    \"\"\"\n",
    "    test_labels = labels[~train_index].reshape(-1)\n",
    "    test_x = features[~train_index].reshape(-1)\n",
    "    hats = {}\n",
    "    for degree in degrees:\n",
    "        train_features, train_labels = poly_features[train_index,:degree], labels[train_index]\n",
    "        # print(train_features.shape)\n",
    "        # print(train_features)\n",
    "        # return\n",
    "        test_features = poly_features[~train_index,:degree]\n",
    "        # Train the model\n",
    "        model = train_polynomial_regression(train_features, train_labels, degree, num_epochs, learning_rate)\n",
    "\n",
    "        # Test the model\n",
    "        test_y_hat = model(test_features)\n",
    "        hats[degree] = test_y_hat.reshape(-1)\n",
    "    \n",
    "    return test_x, test_labels, hats"
   ]
  },
  {
   "cell_type": "code",
   "execution_count": 7,
   "metadata": {},
   "outputs": [],
   "source": [
    "degrees = [3, ]"
   ]
  },
  {
   "cell_type": "code",
   "execution_count": 8,
   "metadata": {},
   "outputs": [
    {
     "name": "stdout",
     "output_type": "stream",
     "text": [
      "Epoch [10/100], Loss: inf\n",
      "Epoch [20/100], Loss: nan\n",
      "Epoch [30/100], Loss: nan\n",
      "Epoch [40/100], Loss: nan\n",
      "Epoch [50/100], Loss: nan\n",
      "Epoch [60/100], Loss: nan\n",
      "Epoch [70/100], Loss: nan\n",
      "Epoch [80/100], Loss: nan\n",
      "Epoch [90/100], Loss: nan\n",
      "Epoch [100/100], Loss: nan\n"
     ]
    },
    {
     "name": "stderr",
     "output_type": "stream",
     "text": [
      "/root/miniconda3/envs/d2l/lib/python3.8/site-packages/torch/nn/modules/loss.py:535: UserWarning: Using a target size (torch.Size([100])) that is different to the input size (torch.Size([100, 1])). This will likely lead to incorrect results due to broadcasting. Please ensure they have the same size.\n",
      "  return F.mse_loss(input, target, reduction=self.reduction)\n"
     ]
    }
   ],
   "source": [
    "x, y, hats = overfitting_show(features, poly_features, labels, degrees, num_epochs, learning_rate)"
   ]
  },
  {
   "cell_type": "code",
   "execution_count": 9,
   "metadata": {},
   "outputs": [],
   "source": [
    "import matplotlib.pyplot as plt"
   ]
  },
  {
   "cell_type": "code",
   "execution_count": 10,
   "metadata": {},
   "outputs": [
    {
     "data": {
      "image/png": "[encoded data removed]",
      "text/plain": [
       "<Figure size 640x480 with 1 Axes>"
      ]
     },
     "metadata": {},
     "output_type": "display_data"
    }
   ],
   "source": [
    "sort_index = np.argsort(x)\n",
    "x, y = x[sort_index], y[sort_index]\n",
    "plt.scatter(x, y, label='test-data')\n",
    "for degree, y_hat in hats.items():\n",
    "    plt.plot(x, y_hat.detach().numpy().reshape(-1)[sort_index], label=f\"deggre={degree}\")\n",
    "plt.legend()\n",
    "plt.show()"
   ]
  },
  {
   "cell_type": "code",
   "execution_count": null,
   "metadata": {},
   "outputs": [],
   "source": []
  }
 ],
 "metadata": {
  "kernelspec": {
   "display_name": "ai",
   "language": "python",
   "name": "python3"
  },
  "language_info": {
   "codemirror_mode": {
    "name": "ipython",
    "version": 3
   },
   "file_extension": ".py",
   "mimetype": "text/x-python",
   "name": "python",
   "nbconvert_exporter": "python",
   "pygments_lexer": "ipython3",
   "version": "3.8.19"
  }
 },
 "nbformat": 4,
 "nbformat_minor": 2
}
