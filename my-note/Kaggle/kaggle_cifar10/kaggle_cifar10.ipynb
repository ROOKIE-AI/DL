{
  "cells": [
    {
      "cell_type": "code",
      "execution_count": 1,
      "id": "frHUCrIqdX-X",
      "metadata": {
        "id": "frHUCrIqdX-X"
      },
      "outputs": [],
      "source": [
        "import importlib\n",
        "\n",
        "def try_lib_downlad(library_name):\n",
        "    try:\n",
        "      importlib.import_module(library_name)\n",
        "      return True\n",
        "    except ImportError:\n",
        "      !pip install $library_name\n",
        "      return False"
      ]
    },
    {
      "cell_type": "code",
      "execution_count": 2,
      "id": "Je872cKJdaOe",
      "metadata": {
        "colab": {
          "base_uri": "https://localhost:8080/"
        },
        "id": "Je872cKJdaOe",
        "outputId": "e85fa922-a65b-4ec1-f7b0-dde5770e32a7"
      },
      "outputs": [
        {
          "output_type": "execute_result",
          "data": {
            "text/plain": [
              "True"
            ]
          },
          "metadata": {},
          "execution_count": 2
        }
      ],
      "source": [
        "try_lib_downlad('d2l')"
      ]
    },
    {
      "cell_type": "markdown",
      "id": "fec74aec",
      "metadata": {
        "id": "fec74aec",
        "origin_pos": 0
      },
      "source": [
        "# 实战 Kaggle 比赛：图像分类 (CIFAR-10)\n",
        ":label:`sec_kaggle_cifar10`\n",
        "\n",
        "之前几节中，我们一直在使用深度学习框架的高级API直接获取张量格式的图像数据集。\n",
        "但是在实践中，图像数据集通常以图像文件的形式出现。\n",
        "本节将从原始图像文件开始，然后逐步组织、读取并将它们转换为张量格式。\n",
        "\n",
        "我们在 :numref:`sec_image_augmentation`中对CIFAR-10数据集做了一个实验。CIFAR-10是计算机视觉领域中的一个重要的数据集。\n",
        "本节将运用我们在前几节中学到的知识来参加CIFAR-10图像分类问题的Kaggle竞赛，(**比赛的网址是https://www.kaggle.com/c/cifar-10**)。\n",
        "\n",
        " :numref:`fig_kaggle_cifar10`显示了竞赛网站页面上的信息。\n",
        "为了能提交结果，首先需要注册一个Kaggle账户。\n",
        "\n",
        "![CIFAR-10 图像分类竞赛页面上的信息。竞赛用的数据集可通过点击“Data”选项卡获取。](https://github.com/d2l-ai/d2l-zh-pytorch-colab/blob/master/img/kaggle-cifar10.png?raw=1)\n",
        ":width:`600px`\n",
        ":label:`fig_kaggle_cifar10`\n",
        "\n",
        "首先，导入竞赛所需的包和模块。\n"
      ]
    },
    {
      "cell_type": "code",
      "execution_count": 3,
      "id": "f7b4fa3c",
      "metadata": {
        "execution": {
          "iopub.execute_input": "2023-08-18T07:02:12.123905Z",
          "iopub.status.busy": "2023-08-18T07:02:12.123323Z",
          "iopub.status.idle": "2023-08-18T07:02:14.203247Z",
          "shell.execute_reply": "2023-08-18T07:02:14.202358Z"
        },
        "id": "f7b4fa3c",
        "origin_pos": 2,
        "tab": [
          "pytorch"
        ]
      },
      "outputs": [],
      "source": [
        "import collections\n",
        "import math\n",
        "import os\n",
        "import shutil\n",
        "import pandas as pd\n",
        "import torch\n",
        "import torchvision\n",
        "from torch import nn\n",
        "from d2l import torch as d2l"
      ]
    },
    {
      "cell_type": "markdown",
      "id": "11f6b9d7",
      "metadata": {
        "id": "11f6b9d7",
        "origin_pos": 4
      },
      "source": [
        "## 获取并组织数据集\n",
        "\n",
        "比赛数据集分为训练集和测试集，其中训练集包含50000张、测试集包含300000张图像。\n",
        "在测试集中，10000张图像将被用于评估，而剩下的290000张图像将不会被进行评估，包含它们只是为了防止手动标记测试集并提交标记结果。\n",
        "两个数据集中的图像都是png格式，高度和宽度均为32像素并有三个颜色通道（RGB）。\n",
        "这些图片共涵盖10个类别：飞机、汽车、鸟类、猫、鹿、狗、青蛙、马、船和卡车。\n",
        " :numref:`fig_kaggle_cifar10`的左上角显示了数据集中飞机、汽车和鸟类的一些图像。\n",
        "\n",
        "### 下载数据集\n",
        "\n",
        "登录Kaggle后，我们可以点击 :numref:`fig_kaggle_cifar10`中显示的CIFAR-10图像分类竞赛网页上的“Data”选项卡，然后单击“Download All”按钮下载数据集。\n",
        "在`../data`中解压下载的文件并在其中解压缩`train.7z`和`test.7z`后，在以下路径中可以找到整个数据集：\n",
        "\n",
        "* `../data/cifar-10/train/[1-50000].png`\n",
        "* `../data/cifar-10/test/[1-300000].png`\n",
        "* `../data/cifar-10/trainLabels.csv`\n",
        "* `../data/cifar-10/sampleSubmission.csv`\n",
        "\n",
        "`train`和`test`文件夹分别包含训练和测试图像，`trainLabels.csv`含有训练图像的标签，\n",
        "`sample_submission.csv`是提交文件的范例。\n",
        "\n",
        "为了便于入门，[**我们提供包含前1000个训练图像和5个随机测试图像的数据集的小规模样本**]。\n",
        "要使用Kaggle竞赛的完整数据集，需要将以下`demo`变量设置为`False`。\n"
      ]
    },
    {
      "cell_type": "code",
      "execution_count": 5,
      "id": "XDnSTsWJdAqo",
      "metadata": {
        "id": "XDnSTsWJdAqo"
      },
      "outputs": [],
      "source": [
        "try_lib_downlad('py7zr')\n",
        "import py7zr\n",
        "\n",
        "def extract_all_7z_in_directory(directory):\n",
        "    try:\n",
        "      for filename in os.listdir(directory):\n",
        "        if filename.endswith('.7z'):\n",
        "          file_path = os.path.join(directory, filename)\n",
        "          # extract_path = os.path.join(directory, os.path.splitext(filename)[0])\n",
        "          # 解压文件\n",
        "          with py7zr.SevenZipFile(file_path, mode='r') as z:\n",
        "              z.extractall(path=directory)\n",
        "          print(f\"文件 {file_path} 已解压到 {directory}\")\n",
        "    except Exception as e:\n",
        "      print(f\"解压文件时发生错误: {e}\")"
      ]
    },
    {
      "cell_type": "code",
      "execution_count": null,
      "id": "01d32a16",
      "metadata": {
        "id": "01d32a16"
      },
      "outputs": [],
      "source": [
        "# try_lib_downlad('kaggle')"
      ]
    },
    {
      "cell_type": "code",
      "execution_count": 6,
      "id": "7ae59ae9",
      "metadata": {
        "colab": {
          "base_uri": "https://localhost:8080/",
          "height": 231
        },
        "execution": {
          "iopub.execute_input": "2023-08-18T07:02:14.207394Z",
          "iopub.status.busy": "2023-08-18T07:02:14.207019Z",
          "iopub.status.idle": "2023-08-18T07:02:14.623037Z",
          "shell.execute_reply": "2023-08-18T07:02:14.622201Z"
        },
        "id": "7ae59ae9",
        "origin_pos": 5,
        "outputId": "6bdfa54e-1b00-4654-ee93-54e1f86e2d1c",
        "tab": [
          "pytorch"
        ]
      },
      "outputs": [
        {
          "output_type": "stream",
          "name": "stdout",
          "text": [
            "Warning: Your Kaggle API key is readable by other users on this system! To fix this, you can run 'chmod 600 ./kaggle.json'\n",
            "Downloading cifar-10.zip to /content\n",
            "100% 714M/715M [00:29<00:00, 23.0MB/s]\n",
            "100% 715M/715M [00:29<00:00, 25.5MB/s]\n",
            "Archive:  ./cifar-10.zip\n",
            "  inflating: ../data/cifar-10/sampleSubmission.csv  \n",
            "  inflating: ../data/cifar-10/test.7z  \n",
            "  inflating: ../data/cifar-10/train.7z  \n",
            "  inflating: ../data/cifar-10/trainLabels.csv  \n",
            "文件 ../data/cifar-10/test.7z 已解压到 ../data/cifar-10/\n",
            "文件 ../data/cifar-10/train.7z 已解压到 ../data/cifar-10/\n"
          ]
        },
        {
          "output_type": "execute_result",
          "data": {
            "text/plain": [
              "'../data/cifar-10/'"
            ],
            "application/vnd.google.colaboratory.intrinsic+json": {
              "type": "string"
            }
          },
          "metadata": {},
          "execution_count": 6
        }
      ],
      "source": [
        "d2l.DATA_HUB['cifar10_tiny'] = (d2l.DATA_URL + 'kaggle_cifar10_tiny.zip', '2068874e4b9a9f0fb07ebe0ad2b29754449ccacd')\n",
        "\n",
        "# 如果使用完整的Kaggle竞赛的数据集，设置demo为False\n",
        "demo = False\n",
        "\n",
        "if demo:\n",
        "    data_dir = d2l.download_extract('cifar10_tiny')\n",
        "else:\n",
        "    data_dir = '../data/cifar-10/'\n",
        "    if not os.path.exists(data_dir):\n",
        "        os.environ['KAGGLE_CONFIG_DIR'] = './'\n",
        "        !mkdir -p $data_dir\n",
        "        !kaggle competitions download -c cifar-10\n",
        "        !unzip ./cifar-10.zip -d $data_dir\n",
        "    extract_all_7z_in_directory(data_dir)\n",
        "data_dir"
      ]
    },
    {
      "cell_type": "markdown",
      "id": "56ef995f",
      "metadata": {
        "id": "56ef995f",
        "origin_pos": 6
      },
      "source": [
        "### [**整理数据集**]\n",
        "\n",
        "我们需要整理数据集来训练和测试模型。\n",
        "首先，我们用以下函数读取CSV文件中的标签，它返回一个字典，该字典将文件名中不带扩展名的部分映射到其标签。\n"
      ]
    },
    {
      "cell_type": "code",
      "execution_count": 7,
      "id": "24b4fdfb",
      "metadata": {
        "colab": {
          "base_uri": "https://localhost:8080/"
        },
        "execution": {
          "iopub.execute_input": "2023-08-18T07:02:14.627215Z",
          "iopub.status.busy": "2023-08-18T07:02:14.626653Z",
          "iopub.status.idle": "2023-08-18T07:02:14.634237Z",
          "shell.execute_reply": "2023-08-18T07:02:14.633299Z"
        },
        "id": "24b4fdfb",
        "origin_pos": 7,
        "outputId": "9ff3e403-7cc5-4196-9973-c6d6cfc14f4d",
        "tab": [
          "pytorch"
        ]
      },
      "outputs": [
        {
          "output_type": "stream",
          "name": "stdout",
          "text": [
            "# 训练样本 : 50000\n",
            "# 类别 : 10\n"
          ]
        }
      ],
      "source": [
        "def read_csv_labels(fname):\n",
        "    \"\"\"读取fname来给标签字典返回一个文件名\"\"\"\n",
        "    with open(fname, 'r') as f:\n",
        "        # 跳过文件头行(列名)\n",
        "        lines = f.readlines()[1:]\n",
        "    tokens = [l.rstrip().split(',') for l in lines]\n",
        "    return dict(((name, label) for name, label in tokens))\n",
        "\n",
        "labels = read_csv_labels(os.path.join(data_dir, 'trainLabels.csv'))\n",
        "print('# 训练样本 :', len(labels))\n",
        "print('# 类别 :', len(set(labels.values())))"
      ]
    },
    {
      "cell_type": "code",
      "execution_count": 8,
      "id": "zbgbnTCnLZqW",
      "metadata": {
        "colab": {
          "base_uri": "https://localhost:8080/"
        },
        "id": "zbgbnTCnLZqW",
        "outputId": "7b3775c9-8240-4ac4-ae28-a6a84a50ab80"
      },
      "outputs": [
        {
          "output_type": "execute_result",
          "data": {
            "text/plain": [
              "[('frog', 5000),\n",
              " ('truck', 5000),\n",
              " ('deer', 5000),\n",
              " ('automobile', 5000),\n",
              " ('bird', 5000),\n",
              " ('horse', 5000),\n",
              " ('ship', 5000),\n",
              " ('cat', 5000),\n",
              " ('dog', 5000),\n",
              " ('airplane', 5000)]"
            ]
          },
          "metadata": {},
          "execution_count": 8
        }
      ],
      "source": [
        "collections.Counter(labels.values()).most_common()"
      ]
    },
    {
      "cell_type": "code",
      "execution_count": 9,
      "id": "Z5y4sD46K0F_",
      "metadata": {
        "colab": {
          "base_uri": "https://localhost:8080/"
        },
        "id": "Z5y4sD46K0F_",
        "outputId": "ef63319a-08cf-4208-ec93-f84f3a85e5df"
      },
      "outputs": [
        {
          "output_type": "execute_result",
          "data": {
            "text/plain": [
              "5000"
            ]
          },
          "metadata": {},
          "execution_count": 9
        }
      ],
      "source": [
        "collections.Counter(labels.values()).most_common()[-1][1]  # 最少样本数"
      ]
    },
    {
      "cell_type": "markdown",
      "id": "3359e04e",
      "metadata": {
        "id": "3359e04e",
        "origin_pos": 8
      },
      "source": [
        "接下来，我们定义`reorg_train_valid`函数来[**将验证集从原始的训练集中拆分出来**]。\n",
        "此函数中的参数`valid_ratio`是验证集中的样本数与原始训练集中的样本数之比。\n",
        "更具体地说，令$n$等于样本最少的类别中的图像数量，而$r$是比率。\n",
        "验证集将为每个类别拆分出$\\max(\\lfloor nr\\rfloor,1)$张图像。\n",
        "让我们以`valid_ratio=0.1`为例，由于原始的训练集有50000张图像，因此`train_valid_test/train`路径中将有45000张图像用于训练，而剩下5000张图像将作为路径`train_valid_test/valid`中的验证集。\n",
        "组织数据集后，同类别的图像将被放置在同一文件夹下。\n"
      ]
    },
    {
      "cell_type": "code",
      "execution_count": 10,
      "id": "fbfbac4f",
      "metadata": {
        "execution": {
          "iopub.execute_input": "2023-08-18T07:02:14.637882Z",
          "iopub.status.busy": "2023-08-18T07:02:14.637608Z",
          "iopub.status.idle": "2023-08-18T07:02:14.644987Z",
          "shell.execute_reply": "2023-08-18T07:02:14.644218Z"
        },
        "id": "fbfbac4f",
        "origin_pos": 9,
        "tab": [
          "pytorch"
        ]
      },
      "outputs": [],
      "source": [
        "def copyfile(filename, target_dir):\n",
        "    \"\"\"将文件复制到目标目录\"\"\"\n",
        "    os.makedirs(target_dir, exist_ok=True)\n",
        "    shutil.copy(filename, target_dir)\n",
        "\n",
        "def reorg_train_valid(data_dir, labels, valid_ratio):\n",
        "    \"\"\"将验证集从原始的训练集中拆分出来\"\"\"\n",
        "    # 训练数据集中样本最少的类别中的样本数\n",
        "    n = collections.Counter(labels.values()).most_common()[-1][1]\n",
        "    # 验证集中每个类别的样本数\n",
        "    n_valid_per_label = max(1, math.floor(n * valid_ratio))\n",
        "    label_count = {}\n",
        "    for train_file in os.listdir(os.path.join(data_dir, 'train')):\n",
        "        label = labels[train_file.split('.')[0]]\n",
        "        fname = os.path.join(data_dir, 'train', train_file)\n",
        "        copyfile(fname, os.path.join(data_dir, 'train_valid_test',\n",
        "                                     'train_valid', label))\n",
        "        if label not in label_count or label_count[label] < n_valid_per_label:\n",
        "            copyfile(fname, os.path.join(data_dir, 'train_valid_test',\n",
        "                                         'valid', label))\n",
        "            label_count[label] = label_count.get(label, 0) + 1\n",
        "        else:\n",
        "            copyfile(fname, os.path.join(data_dir, 'train_valid_test',\n",
        "                                         'train', label))\n",
        "    return n_valid_per_label"
      ]
    },
    {
      "cell_type": "markdown",
      "id": "4d89ac6f",
      "metadata": {
        "id": "4d89ac6f",
        "origin_pos": 10
      },
      "source": [
        "下面的`reorg_test`函数用来[**在预测期间整理测试集，以方便读取**]。\n"
      ]
    },
    {
      "cell_type": "code",
      "execution_count": 11,
      "id": "9ad6d005",
      "metadata": {
        "execution": {
          "iopub.execute_input": "2023-08-18T07:02:14.648388Z",
          "iopub.status.busy": "2023-08-18T07:02:14.648058Z",
          "iopub.status.idle": "2023-08-18T07:02:14.653344Z",
          "shell.execute_reply": "2023-08-18T07:02:14.652542Z"
        },
        "id": "9ad6d005",
        "origin_pos": 11,
        "tab": [
          "pytorch"
        ]
      },
      "outputs": [],
      "source": [
        "def reorg_test(data_dir):\n",
        "    \"\"\"在预测期间整理测试集，以方便读取\"\"\"\n",
        "    for test_file in os.listdir(os.path.join(data_dir, 'test')):\n",
        "        copyfile(os.path.join(data_dir, 'test', test_file),\n",
        "                 os.path.join(data_dir, 'train_valid_test', 'test',\n",
        "                              'unknown'))"
      ]
    },
    {
      "cell_type": "markdown",
      "id": "da9e6d5a",
      "metadata": {
        "id": "da9e6d5a",
        "origin_pos": 12
      },
      "source": [
        "最后，我们使用一个函数来[**调用前面定义的函数**]`read_csv_labels`、`reorg_train_valid`和`reorg_test`。\n"
      ]
    },
    {
      "cell_type": "code",
      "execution_count": 12,
      "id": "37a42208",
      "metadata": {
        "execution": {
          "iopub.execute_input": "2023-08-18T07:02:14.657456Z",
          "iopub.status.busy": "2023-08-18T07:02:14.656944Z",
          "iopub.status.idle": "2023-08-18T07:02:14.661187Z",
          "shell.execute_reply": "2023-08-18T07:02:14.660400Z"
        },
        "id": "37a42208",
        "origin_pos": 13,
        "tab": [
          "pytorch"
        ]
      },
      "outputs": [],
      "source": [
        "def reorg_cifar10_data(data_dir, valid_ratio):\n",
        "    labels = read_csv_labels(os.path.join(data_dir, 'trainLabels.csv'))\n",
        "    reorg_train_valid(data_dir, labels, valid_ratio)\n",
        "    reorg_test(data_dir)"
      ]
    },
    {
      "cell_type": "markdown",
      "id": "b62b33fa",
      "metadata": {
        "id": "b62b33fa",
        "origin_pos": 14
      },
      "source": [
        "在这里，我们只将样本数据集的批量大小设置为32。\n",
        "在实际训练和测试中，应该使用Kaggle竞赛的完整数据集，并将`batch_size`设置为更大的整数，例如128。\n",
        "我们将10％的训练样本作为调整超参数的验证集。\n"
      ]
    },
    {
      "cell_type": "code",
      "execution_count": 13,
      "id": "868eb62b",
      "metadata": {
        "execution": {
          "iopub.execute_input": "2023-08-18T07:02:14.664878Z",
          "iopub.status.busy": "2023-08-18T07:02:14.664240Z",
          "iopub.status.idle": "2023-08-18T07:02:14.931508Z",
          "shell.execute_reply": "2023-08-18T07:02:14.930669Z"
        },
        "id": "868eb62b",
        "origin_pos": 15,
        "tab": [
          "pytorch"
        ]
      },
      "outputs": [],
      "source": [
        "batch_size = 32 if demo else 128\n",
        "valid_ratio = 0.1\n",
        "reorg_cifar10_data(data_dir, valid_ratio)"
      ]
    },
    {
      "cell_type": "markdown",
      "id": "31458131",
      "metadata": {
        "id": "31458131",
        "origin_pos": 16
      },
      "source": [
        "## [**图像增广**]\n",
        "\n",
        "我们使用图像增广来解决过拟合的问题。例如在训练中，我们可以随机水平翻转图像。\n",
        "我们还可以对彩色图像的三个RGB通道执行标准化。\n",
        "下面，我们列出了其中一些可以调整的操作。\n"
      ]
    },
    {
      "cell_type": "code",
      "execution_count": 14,
      "id": "300ef249",
      "metadata": {
        "execution": {
          "iopub.execute_input": "2023-08-18T07:02:14.935568Z",
          "iopub.status.busy": "2023-08-18T07:02:14.934993Z",
          "iopub.status.idle": "2023-08-18T07:02:14.940662Z",
          "shell.execute_reply": "2023-08-18T07:02:14.939875Z"
        },
        "id": "300ef249",
        "origin_pos": 18,
        "tab": [
          "pytorch"
        ]
      },
      "outputs": [],
      "source": [
        "transform_train = torchvision.transforms.Compose([\n",
        "    # 在高度和宽度上将图像放大到40像素的正方形\n",
        "    torchvision.transforms.Resize(40),\n",
        "    # 随机裁剪出一个高度和宽度均为40像素的正方形图像，\n",
        "    # 生成一个面积为原始图像面积0.64～1倍的小正方形，\n",
        "    # 然后将其缩放为高度和宽度均为32像素的正方形\n",
        "    torchvision.transforms.RandomResizedCrop(32, scale=(0.64, 1.0),\n",
        "                                                   ratio=(1.0, 1.0)),\n",
        "    torchvision.transforms.RandomHorizontalFlip(),\n",
        "    torchvision.transforms.ToTensor(),\n",
        "    # 标准化图像的每个通道\n",
        "    torchvision.transforms.Normalize([0.4914, 0.4822, 0.4465],\n",
        "                                     [0.2023, 0.1994, 0.2010])])"
      ]
    },
    {
      "cell_type": "markdown",
      "id": "694c31d1",
      "metadata": {
        "id": "694c31d1",
        "origin_pos": 20
      },
      "source": [
        "在测试期间，我们只对图像执行标准化，以消除评估结果中的随机性。\n"
      ]
    },
    {
      "cell_type": "code",
      "execution_count": 15,
      "id": "6bd19592",
      "metadata": {
        "execution": {
          "iopub.execute_input": "2023-08-18T07:02:14.945514Z",
          "iopub.status.busy": "2023-08-18T07:02:14.944858Z",
          "iopub.status.idle": "2023-08-18T07:02:14.949240Z",
          "shell.execute_reply": "2023-08-18T07:02:14.948438Z"
        },
        "id": "6bd19592",
        "origin_pos": 22,
        "tab": [
          "pytorch"
        ]
      },
      "outputs": [],
      "source": [
        "transform_test = torchvision.transforms.Compose([\n",
        "    torchvision.transforms.ToTensor(),\n",
        "    torchvision.transforms.Normalize([0.4914, 0.4822, 0.4465],\n",
        "                                     [0.2023, 0.1994, 0.2010])])"
      ]
    },
    {
      "cell_type": "markdown",
      "id": "c06d3e36",
      "metadata": {
        "id": "c06d3e36",
        "origin_pos": 24
      },
      "source": [
        "## 读取数据集\n",
        "\n",
        "接下来，我们[**读取由原始图像组成的数据集**]，每个样本都包括一张图片和一个标签。\n"
      ]
    },
    {
      "cell_type": "code",
      "execution_count": 16,
      "id": "c1815173",
      "metadata": {
        "execution": {
          "iopub.execute_input": "2023-08-18T07:02:14.952392Z",
          "iopub.status.busy": "2023-08-18T07:02:14.952109Z",
          "iopub.status.idle": "2023-08-18T07:02:14.966044Z",
          "shell.execute_reply": "2023-08-18T07:02:14.965283Z"
        },
        "id": "c1815173",
        "origin_pos": 26,
        "tab": [
          "pytorch"
        ]
      },
      "outputs": [],
      "source": [
        "train_ds, train_valid_ds = [torchvision.datasets.ImageFolder(\n",
        "    os.path.join(data_dir, 'train_valid_test', folder),\n",
        "    transform=transform_train) for folder in ['train', 'train_valid']]\n",
        "\n",
        "valid_ds, test_ds = [torchvision.datasets.ImageFolder(\n",
        "    os.path.join(data_dir, 'train_valid_test', folder),\n",
        "    transform=transform_test) for folder in ['valid', 'test']]"
      ]
    },
    {
      "cell_type": "markdown",
      "id": "f22934d1",
      "metadata": {
        "id": "f22934d1",
        "origin_pos": 28
      },
      "source": [
        "在训练期间，我们需要[**指定上面定义的所有图像增广操作**]。\n",
        "当验证集在超参数调整过程中用于模型评估时，不应引入图像增广的随机性。\n",
        "在最终预测之前，我们根据训练集和验证集组合而成的训练模型进行训练，以充分利用所有标记的数据。\n"
      ]
    },
    {
      "cell_type": "code",
      "execution_count": 17,
      "id": "d9528fff",
      "metadata": {
        "execution": {
          "iopub.execute_input": "2023-08-18T07:02:14.969294Z",
          "iopub.status.busy": "2023-08-18T07:02:14.968975Z",
          "iopub.status.idle": "2023-08-18T07:02:14.974247Z",
          "shell.execute_reply": "2023-08-18T07:02:14.973489Z"
        },
        "id": "d9528fff",
        "origin_pos": 30,
        "tab": [
          "pytorch"
        ]
      },
      "outputs": [],
      "source": [
        "train_iter, train_valid_iter = [torch.utils.data.DataLoader(\n",
        "    dataset, batch_size, shuffle=True, drop_last=True)\n",
        "    for dataset in (train_ds, train_valid_ds)]\n",
        "\n",
        "valid_iter = torch.utils.data.DataLoader(valid_ds, batch_size, shuffle=False,\n",
        "                                         drop_last=True)\n",
        "\n",
        "test_iter = torch.utils.data.DataLoader(test_ds, batch_size, shuffle=False,\n",
        "                                        drop_last=False)"
      ]
    },
    {
      "cell_type": "markdown",
      "id": "a40cd7e3",
      "metadata": {
        "id": "a40cd7e3",
        "origin_pos": 32
      },
      "source": [
        "## 定义[**模型**]\n"
      ]
    },
    {
      "cell_type": "markdown",
      "id": "8a4e0897",
      "metadata": {
        "id": "8a4e0897",
        "origin_pos": 38,
        "tab": [
          "pytorch"
        ]
      },
      "source": [
        "我们定义了 :numref:`sec_resnet`中描述的Resnet-18模型。\n"
      ]
    },
    {
      "cell_type": "code",
      "execution_count": 18,
      "id": "c35c8dca",
      "metadata": {
        "execution": {
          "iopub.execute_input": "2023-08-18T07:02:14.977846Z",
          "iopub.status.busy": "2023-08-18T07:02:14.977285Z",
          "iopub.status.idle": "2023-08-18T07:02:14.981584Z",
          "shell.execute_reply": "2023-08-18T07:02:14.980732Z"
        },
        "id": "c35c8dca",
        "origin_pos": 41,
        "tab": [
          "pytorch"
        ]
      },
      "outputs": [],
      "source": [
        "def get_net():\n",
        "    num_classes = 10\n",
        "    net = d2l.resnet18(num_classes, 3)\n",
        "    return net\n",
        "\n",
        "loss = nn.CrossEntropyLoss(reduction=\"none\")"
      ]
    },
    {
      "cell_type": "markdown",
      "id": "e38ab14a",
      "metadata": {
        "id": "e38ab14a",
        "origin_pos": 43
      },
      "source": [
        "## 定义[**训练函数**]\n",
        "\n",
        "我们将根据模型在验证集上的表现来选择模型并调整超参数。\n",
        "下面我们定义了模型训练函数`train`。\n"
      ]
    },
    {
      "cell_type": "code",
      "execution_count": 19,
      "id": "e082315c",
      "metadata": {
        "execution": {
          "iopub.execute_input": "2023-08-18T07:02:14.984795Z",
          "iopub.status.busy": "2023-08-18T07:02:14.984512Z",
          "iopub.status.idle": "2023-08-18T07:02:14.994288Z",
          "shell.execute_reply": "2023-08-18T07:02:14.993512Z"
        },
        "id": "e082315c",
        "origin_pos": 45,
        "tab": [
          "pytorch"
        ]
      },
      "outputs": [],
      "source": [
        "def train(net, train_iter, valid_iter, num_epochs, lr, wd, devices, lr_period,\n",
        "          lr_decay):\n",
        "    trainer = torch.optim.SGD(net.parameters(), lr=lr, momentum=0.9,\n",
        "                              weight_decay=wd)\n",
        "    scheduler = torch.optim.lr_scheduler.StepLR(trainer, lr_period, lr_decay)\n",
        "    num_batches, timer = len(train_iter), d2l.Timer()\n",
        "    legend = ['train loss', 'train acc']\n",
        "    if valid_iter is not None:\n",
        "        legend.append('valid acc')\n",
        "    animator = d2l.Animator(xlabel='epoch', xlim=[1, num_epochs],\n",
        "                            legend=legend)\n",
        "    net = nn.DataParallel(net, device_ids=devices).to(devices[0])\n",
        "    for epoch in range(num_epochs):\n",
        "        net.train()\n",
        "        metric = d2l.Accumulator(3)\n",
        "        for i, (features, labels) in enumerate(train_iter):\n",
        "            timer.start()\n",
        "            l, acc = d2l.train_batch_ch13(net, features, labels,\n",
        "                                          loss, trainer, devices)\n",
        "            metric.add(l, acc, labels.shape[0])\n",
        "            timer.stop()\n",
        "            if (i + 1) % (num_batches // 5) == 0 or i == num_batches - 1:\n",
        "                animator.add(epoch + (i + 1) / num_batches,\n",
        "                             (metric[0] / metric[2], metric[1] / metric[2],\n",
        "                              None))\n",
        "        if valid_iter is not None:\n",
        "            valid_acc = d2l.evaluate_accuracy_gpu(net, valid_iter)\n",
        "            animator.add(epoch + 1, (None, None, valid_acc))\n",
        "        scheduler.step()\n",
        "    measures = (f'train loss {metric[0] / metric[2]:.3f}, '\n",
        "                f'train acc {metric[1] / metric[2]:.3f}')\n",
        "    if valid_iter is not None:\n",
        "        measures += f', valid acc {valid_acc:.3f}'\n",
        "    print(measures + f'\\n{metric[2] * num_epochs / timer.sum():.1f}'\n",
        "          f' examples/sec on {str(devices)}')"
      ]
    },
    {
      "cell_type": "markdown",
      "id": "41c3007d",
      "metadata": {
        "id": "41c3007d",
        "origin_pos": 47
      },
      "source": [
        "## [**训练和验证模型**]\n",
        "\n",
        "现在，我们可以训练和验证模型了，而以下所有超参数都可以调整。\n",
        "例如，我们可以增加周期的数量。当`lr_period`和`lr_decay`分别设置为4和0.9时，优化算法的学习速率将在每4个周期乘以0.9。\n",
        "为便于演示，我们在这里只训练20个周期。\n"
      ]
    },
    {
      "cell_type": "code",
      "execution_count": null,
      "id": "267a469f",
      "metadata": {
        "execution": {
          "iopub.execute_input": "2023-08-18T07:02:14.997959Z",
          "iopub.status.busy": "2023-08-18T07:02:14.997526Z",
          "iopub.status.idle": "2023-08-18T07:03:21.092598Z",
          "shell.execute_reply": "2023-08-18T07:03:21.091331Z"
        },
        "id": "267a469f",
        "origin_pos": 49,
        "outputId": "05fbca77-e9d3-4383-cf2f-c43b70b4a6d8",
        "tab": [
          "pytorch"
        ],
        "colab": {
          "base_uri": "https://localhost:8080/",
          "height": 265
        }
      },
      "outputs": [
        {
          "output_type": "display_data",
          "data": {
            "text/plain": [
              "<Figure size 350x250 with 1 Axes>"
            ],
            "image/svg+xml": "<?xml version=\"1.0\" encoding=\"utf-8\" standalone=\"no\"?>\n<!DOCTYPE svg PUBLIC \"-//W3C//DTD SVG 1.1//EN\"\n  \"http://www.w3.org/Graphics/SVG/1.1/DTD/svg11.dtd\">\n<svg xmlns:xlink=\"http://www.w3.org/1999/xlink\" width=\"242.146875pt\" height=\"183.35625pt\" viewBox=\"0 0 242.146875 183.35625\" xmlns=\"http://www.w3.org/2000/svg\" version=\"1.1\">\n <metadata>\n  <rdf:RDF xmlns:dc=\"http://purl.org/dc/elements/1.1/\" xmlns:cc=\"http://creativecommons.org/ns#\" xmlns:rdf=\"http://www.w3.org/1999/02/22-rdf-syntax-ns#\">\n   <cc:Work>\n    <dc:type rdf:resource=\"http://purl.org/dc/dcmitype/StillImage\"/>\n    <dc:date>2024-07-20T10:08:15.285510</dc:date>\n    <dc:format>image/svg+xml</dc:format>\n    <dc:creator>\n     <cc:Agent>\n      <dc:title>Matplotlib v3.7.2, https://matplotlib.org/</dc:title>\n     </cc:Agent>\n    </dc:creator>\n   </cc:Work>\n  </rdf:RDF>\n </metadata>\n <defs>\n  <style type=\"text/css\">*{stroke-linejoin: round; stroke-linecap: butt}</style>\n </defs>\n <g id=\"figure_1\">\n  <g id=\"patch_1\">\n   <path d=\"M 0 183.35625 \nL 242.146875 183.35625 \nL 242.146875 0 \nL 0 0 \nz\n\" style=\"fill: #ffffff\"/>\n  </g>\n  <g id=\"axes_1\">\n   <g id=\"patch_2\">\n    <path d=\"M 30.103125 145.8 \nL 225.403125 145.8 \nL 225.403125 7.2 \nL 30.103125 7.2 \nz\n\" style=\"fill: #ffffff\"/>\n   </g>\n   <g id=\"matplotlib.axis_1\">\n    <g id=\"xtick_1\">\n     <g id=\"line2d_1\">\n      <path d=\"M 67.584943 145.8 \nL 67.584943 7.2 \n\" clip-path=\"url(#pa2e8ce772f)\" style=\"fill: none; stroke: #b0b0b0; stroke-width: 0.8; stroke-linecap: square\"/>\n     </g>\n     <g id=\"line2d_2\">\n      <defs>\n       <path id=\"md8a4033214\" d=\"M 0 0 \nL 0 3.5 \n\" style=\"stroke: #000000; stroke-width: 0.8\"/>\n      </defs>\n      <g>\n       <use xlink:href=\"#md8a4033214\" x=\"67.584943\" y=\"145.8\" style=\"stroke: #000000; stroke-width: 0.8\"/>\n      </g>\n     </g>\n     <g id=\"text_1\">\n      <!-- 20 -->\n      <g transform=\"translate(61.222443 160.398438) scale(0.1 -0.1)\">\n       <defs>\n        <path id=\"DejaVuSans-32\" d=\"M 1228 531 \nL 3431 531 \nL 3431 0 \nL 469 0 \nL 469 531 \nQ 828 903 1448 1529 \nQ 2069 2156 2228 2338 \nQ 2531 2678 2651 2914 \nQ 2772 3150 2772 3378 \nQ 2772 3750 2511 3984 \nQ 2250 4219 1831 4219 \nQ 1534 4219 1204 4116 \nQ 875 4013 500 3803 \nL 500 4441 \nQ 881 4594 1212 4672 \nQ 1544 4750 1819 4750 \nQ 2544 4750 2975 4387 \nQ 3406 4025 3406 3419 \nQ 3406 3131 3298 2873 \nQ 3191 2616 2906 2266 \nQ 2828 2175 2409 1742 \nQ 1991 1309 1228 531 \nz\n\" transform=\"scale(0.015625)\"/>\n        <path id=\"DejaVuSans-30\" d=\"M 2034 4250 \nQ 1547 4250 1301 3770 \nQ 1056 3291 1056 2328 \nQ 1056 1369 1301 889 \nQ 1547 409 2034 409 \nQ 2525 409 2770 889 \nQ 3016 1369 3016 2328 \nQ 3016 3291 2770 3770 \nQ 2525 4250 2034 4250 \nz\nM 2034 4750 \nQ 2819 4750 3233 4129 \nQ 3647 3509 3647 2328 \nQ 3647 1150 3233 529 \nQ 2819 -91 2034 -91 \nQ 1250 -91 836 529 \nQ 422 1150 422 2328 \nQ 422 3509 836 4129 \nQ 1250 4750 2034 4750 \nz\n\" transform=\"scale(0.015625)\"/>\n       </defs>\n       <use xlink:href=\"#DejaVuSans-32\"/>\n       <use xlink:href=\"#DejaVuSans-30\" x=\"63.623047\"/>\n      </g>\n     </g>\n    </g>\n    <g id=\"xtick_2\">\n     <g id=\"line2d_3\">\n      <path d=\"M 107.039489 145.8 \nL 107.039489 7.2 \n\" clip-path=\"url(#pa2e8ce772f)\" style=\"fill: none; stroke: #b0b0b0; stroke-width: 0.8; stroke-linecap: square\"/>\n     </g>\n     <g id=\"line2d_4\">\n      <g>\n       <use xlink:href=\"#md8a4033214\" x=\"107.039489\" y=\"145.8\" style=\"stroke: #000000; stroke-width: 0.8\"/>\n      </g>\n     </g>\n     <g id=\"text_2\">\n      <!-- 40 -->\n      <g transform=\"translate(100.676989 160.398438) scale(0.1 -0.1)\">\n       <defs>\n        <path id=\"DejaVuSans-34\" d=\"M 2419 4116 \nL 825 1625 \nL 2419 1625 \nL 2419 4116 \nz\nM 2253 4666 \nL 3047 4666 \nL 3047 1625 \nL 3713 1625 \nL 3713 1100 \nL 3047 1100 \nL 3047 0 \nL 2419 0 \nL 2419 1100 \nL 313 1100 \nL 313 1709 \nL 2253 4666 \nz\n\" transform=\"scale(0.015625)\"/>\n       </defs>\n       <use xlink:href=\"#DejaVuSans-34\"/>\n       <use xlink:href=\"#DejaVuSans-30\" x=\"63.623047\"/>\n      </g>\n     </g>\n    </g>\n    <g id=\"xtick_3\">\n     <g id=\"line2d_5\">\n      <path d=\"M 146.494034 145.8 \nL 146.494034 7.2 \n\" clip-path=\"url(#pa2e8ce772f)\" style=\"fill: none; stroke: #b0b0b0; stroke-width: 0.8; stroke-linecap: square\"/>\n     </g>\n     <g id=\"line2d_6\">\n      <g>\n       <use xlink:href=\"#md8a4033214\" x=\"146.494034\" y=\"145.8\" style=\"stroke: #000000; stroke-width: 0.8\"/>\n      </g>\n     </g>\n     <g id=\"text_3\">\n      <!-- 60 -->\n      <g transform=\"translate(140.131534 160.398438) scale(0.1 -0.1)\">\n       <defs>\n        <path id=\"DejaVuSans-36\" d=\"M 2113 2584 \nQ 1688 2584 1439 2293 \nQ 1191 2003 1191 1497 \nQ 1191 994 1439 701 \nQ 1688 409 2113 409 \nQ 2538 409 2786 701 \nQ 3034 994 3034 1497 \nQ 3034 2003 2786 2293 \nQ 2538 2584 2113 2584 \nz\nM 3366 4563 \nL 3366 3988 \nQ 3128 4100 2886 4159 \nQ 2644 4219 2406 4219 \nQ 1781 4219 1451 3797 \nQ 1122 3375 1075 2522 \nQ 1259 2794 1537 2939 \nQ 1816 3084 2150 3084 \nQ 2853 3084 3261 2657 \nQ 3669 2231 3669 1497 \nQ 3669 778 3244 343 \nQ 2819 -91 2113 -91 \nQ 1303 -91 875 529 \nQ 447 1150 447 2328 \nQ 447 3434 972 4092 \nQ 1497 4750 2381 4750 \nQ 2619 4750 2861 4703 \nQ 3103 4656 3366 4563 \nz\n\" transform=\"scale(0.015625)\"/>\n       </defs>\n       <use xlink:href=\"#DejaVuSans-36\"/>\n       <use xlink:href=\"#DejaVuSans-30\" x=\"63.623047\"/>\n      </g>\n     </g>\n    </g>\n    <g id=\"xtick_4\">\n     <g id=\"line2d_7\">\n      <path d=\"M 185.94858 145.8 \nL 185.94858 7.2 \n\" clip-path=\"url(#pa2e8ce772f)\" style=\"fill: none; stroke: #b0b0b0; stroke-width: 0.8; stroke-linecap: square\"/>\n     </g>\n     <g id=\"line2d_8\">\n      <g>\n       <use xlink:href=\"#md8a4033214\" x=\"185.94858\" y=\"145.8\" style=\"stroke: #000000; stroke-width: 0.8\"/>\n      </g>\n     </g>\n     <g id=\"text_4\">\n      <!-- 80 -->\n      <g transform=\"translate(179.58608 160.398438) scale(0.1 -0.1)\">\n       <defs>\n        <path id=\"DejaVuSans-38\" d=\"M 2034 2216 \nQ 1584 2216 1326 1975 \nQ 1069 1734 1069 1313 \nQ 1069 891 1326 650 \nQ 1584 409 2034 409 \nQ 2484 409 2743 651 \nQ 3003 894 3003 1313 \nQ 3003 1734 2745 1975 \nQ 2488 2216 2034 2216 \nz\nM 1403 2484 \nQ 997 2584 770 2862 \nQ 544 3141 544 3541 \nQ 544 4100 942 4425 \nQ 1341 4750 2034 4750 \nQ 2731 4750 3128 4425 \nQ 3525 4100 3525 3541 \nQ 3525 3141 3298 2862 \nQ 3072 2584 2669 2484 \nQ 3125 2378 3379 2068 \nQ 3634 1759 3634 1313 \nQ 3634 634 3220 271 \nQ 2806 -91 2034 -91 \nQ 1263 -91 848 271 \nQ 434 634 434 1313 \nQ 434 1759 690 2068 \nQ 947 2378 1403 2484 \nz\nM 1172 3481 \nQ 1172 3119 1398 2916 \nQ 1625 2713 2034 2713 \nQ 2441 2713 2670 2916 \nQ 2900 3119 2900 3481 \nQ 2900 3844 2670 4047 \nQ 2441 4250 2034 4250 \nQ 1625 4250 1398 4047 \nQ 1172 3844 1172 3481 \nz\n\" transform=\"scale(0.015625)\"/>\n       </defs>\n       <use xlink:href=\"#DejaVuSans-38\"/>\n       <use xlink:href=\"#DejaVuSans-30\" x=\"63.623047\"/>\n      </g>\n     </g>\n    </g>\n    <g id=\"xtick_5\">\n     <g id=\"line2d_9\">\n      <path d=\"M 225.403125 145.8 \nL 225.403125 7.2 \n\" clip-path=\"url(#pa2e8ce772f)\" style=\"fill: none; stroke: #b0b0b0; stroke-width: 0.8; stroke-linecap: square\"/>\n     </g>\n     <g id=\"line2d_10\">\n      <g>\n       <use xlink:href=\"#md8a4033214\" x=\"225.403125\" y=\"145.8\" style=\"stroke: #000000; stroke-width: 0.8\"/>\n      </g>\n     </g>\n     <g id=\"text_5\">\n      <!-- 100 -->\n      <g transform=\"translate(215.859375 160.398438) scale(0.1 -0.1)\">\n       <defs>\n        <path id=\"DejaVuSans-31\" d=\"M 794 531 \nL 1825 531 \nL 1825 4091 \nL 703 3866 \nL 703 4441 \nL 1819 4666 \nL 2450 4666 \nL 2450 531 \nL 3481 531 \nL 3481 0 \nL 794 0 \nL 794 531 \nz\n\" transform=\"scale(0.015625)\"/>\n       </defs>\n       <use xlink:href=\"#DejaVuSans-31\"/>\n       <use xlink:href=\"#DejaVuSans-30\" x=\"63.623047\"/>\n       <use xlink:href=\"#DejaVuSans-30\" x=\"127.246094\"/>\n      </g>\n     </g>\n    </g>\n    <g id=\"text_6\">\n     <!-- epoch -->\n     <g transform=\"translate(112.525 174.076563) scale(0.1 -0.1)\">\n      <defs>\n       <path id=\"DejaVuSans-65\" d=\"M 3597 1894 \nL 3597 1613 \nL 953 1613 \nQ 991 1019 1311 708 \nQ 1631 397 2203 397 \nQ 2534 397 2845 478 \nQ 3156 559 3463 722 \nL 3463 178 \nQ 3153 47 2828 -22 \nQ 2503 -91 2169 -91 \nQ 1331 -91 842 396 \nQ 353 884 353 1716 \nQ 353 2575 817 3079 \nQ 1281 3584 2069 3584 \nQ 2775 3584 3186 3129 \nQ 3597 2675 3597 1894 \nz\nM 3022 2063 \nQ 3016 2534 2758 2815 \nQ 2500 3097 2075 3097 \nQ 1594 3097 1305 2825 \nQ 1016 2553 972 2059 \nL 3022 2063 \nz\n\" transform=\"scale(0.015625)\"/>\n       <path id=\"DejaVuSans-70\" d=\"M 1159 525 \nL 1159 -1331 \nL 581 -1331 \nL 581 3500 \nL 1159 3500 \nL 1159 2969 \nQ 1341 3281 1617 3432 \nQ 1894 3584 2278 3584 \nQ 2916 3584 3314 3078 \nQ 3713 2572 3713 1747 \nQ 3713 922 3314 415 \nQ 2916 -91 2278 -91 \nQ 1894 -91 1617 61 \nQ 1341 213 1159 525 \nz\nM 3116 1747 \nQ 3116 2381 2855 2742 \nQ 2594 3103 2138 3103 \nQ 1681 3103 1420 2742 \nQ 1159 2381 1159 1747 \nQ 1159 1113 1420 752 \nQ 1681 391 2138 391 \nQ 2594 391 2855 752 \nQ 3116 1113 3116 1747 \nz\n\" transform=\"scale(0.015625)\"/>\n       <path id=\"DejaVuSans-6f\" d=\"M 1959 3097 \nQ 1497 3097 1228 2736 \nQ 959 2375 959 1747 \nQ 959 1119 1226 758 \nQ 1494 397 1959 397 \nQ 2419 397 2687 759 \nQ 2956 1122 2956 1747 \nQ 2956 2369 2687 2733 \nQ 2419 3097 1959 3097 \nz\nM 1959 3584 \nQ 2709 3584 3137 3096 \nQ 3566 2609 3566 1747 \nQ 3566 888 3137 398 \nQ 2709 -91 1959 -91 \nQ 1206 -91 779 398 \nQ 353 888 353 1747 \nQ 353 2609 779 3096 \nQ 1206 3584 1959 3584 \nz\n\" transform=\"scale(0.015625)\"/>\n       <path id=\"DejaVuSans-63\" d=\"M 3122 3366 \nL 3122 2828 \nQ 2878 2963 2633 3030 \nQ 2388 3097 2138 3097 \nQ 1578 3097 1268 2742 \nQ 959 2388 959 1747 \nQ 959 1106 1268 751 \nQ 1578 397 2138 397 \nQ 2388 397 2633 464 \nQ 2878 531 3122 666 \nL 3122 134 \nQ 2881 22 2623 -34 \nQ 2366 -91 2075 -91 \nQ 1284 -91 818 406 \nQ 353 903 353 1747 \nQ 353 2603 823 3093 \nQ 1294 3584 2113 3584 \nQ 2378 3584 2631 3529 \nQ 2884 3475 3122 3366 \nz\n\" transform=\"scale(0.015625)\"/>\n       <path id=\"DejaVuSans-68\" d=\"M 3513 2113 \nL 3513 0 \nL 2938 0 \nL 2938 2094 \nQ 2938 2591 2744 2837 \nQ 2550 3084 2163 3084 \nQ 1697 3084 1428 2787 \nQ 1159 2491 1159 1978 \nL 1159 0 \nL 581 0 \nL 581 4863 \nL 1159 4863 \nL 1159 2956 \nQ 1366 3272 1645 3428 \nQ 1925 3584 2291 3584 \nQ 2894 3584 3203 3211 \nQ 3513 2838 3513 2113 \nz\n\" transform=\"scale(0.015625)\"/>\n      </defs>\n      <use xlink:href=\"#DejaVuSans-65\"/>\n      <use xlink:href=\"#DejaVuSans-70\" x=\"61.523438\"/>\n      <use xlink:href=\"#DejaVuSans-6f\" x=\"125\"/>\n      <use xlink:href=\"#DejaVuSans-63\" x=\"186.181641\"/>\n      <use xlink:href=\"#DejaVuSans-68\" x=\"241.162109\"/>\n     </g>\n    </g>\n   </g>\n   <g id=\"matplotlib.axis_2\">\n    <g id=\"ytick_1\">\n     <g id=\"line2d_11\">\n      <path d=\"M 30.103125 142.009683 \nL 225.403125 142.009683 \n\" clip-path=\"url(#pa2e8ce772f)\" style=\"fill: none; stroke: #b0b0b0; stroke-width: 0.8; stroke-linecap: square\"/>\n     </g>\n     <g id=\"line2d_12\">\n      <defs>\n       <path id=\"mcbb88775f9\" d=\"M 0 0 \nL -3.5 0 \n\" style=\"stroke: #000000; stroke-width: 0.8\"/>\n      </defs>\n      <g>\n       <use xlink:href=\"#mcbb88775f9\" x=\"30.103125\" y=\"142.009683\" style=\"stroke: #000000; stroke-width: 0.8\"/>\n      </g>\n     </g>\n     <g id=\"text_7\">\n      <!-- 0.0 -->\n      <g transform=\"translate(7.2 145.808902) scale(0.1 -0.1)\">\n       <defs>\n        <path id=\"DejaVuSans-2e\" d=\"M 684 794 \nL 1344 794 \nL 1344 0 \nL 684 0 \nL 684 794 \nz\n\" transform=\"scale(0.015625)\"/>\n       </defs>\n       <use xlink:href=\"#DejaVuSans-30\"/>\n       <use xlink:href=\"#DejaVuSans-2e\" x=\"63.623047\"/>\n       <use xlink:href=\"#DejaVuSans-30\" x=\"95.410156\"/>\n      </g>\n     </g>\n    </g>\n    <g id=\"ytick_2\">\n     <g id=\"line2d_13\">\n      <path d=\"M 30.103125 109.421929 \nL 225.403125 109.421929 \n\" clip-path=\"url(#pa2e8ce772f)\" style=\"fill: none; stroke: #b0b0b0; stroke-width: 0.8; stroke-linecap: square\"/>\n     </g>\n     <g id=\"line2d_14\">\n      <g>\n       <use xlink:href=\"#mcbb88775f9\" x=\"30.103125\" y=\"109.421929\" style=\"stroke: #000000; stroke-width: 0.8\"/>\n      </g>\n     </g>\n     <g id=\"text_8\">\n      <!-- 0.5 -->\n      <g transform=\"translate(7.2 113.221148) scale(0.1 -0.1)\">\n       <defs>\n        <path id=\"DejaVuSans-35\" d=\"M 691 4666 \nL 3169 4666 \nL 3169 4134 \nL 1269 4134 \nL 1269 2991 \nQ 1406 3038 1543 3061 \nQ 1681 3084 1819 3084 \nQ 2600 3084 3056 2656 \nQ 3513 2228 3513 1497 \nQ 3513 744 3044 326 \nQ 2575 -91 1722 -91 \nQ 1428 -91 1123 -41 \nQ 819 9 494 109 \nL 494 744 \nQ 775 591 1075 516 \nQ 1375 441 1709 441 \nQ 2250 441 2565 725 \nQ 2881 1009 2881 1497 \nQ 2881 1984 2565 2268 \nQ 2250 2553 1709 2553 \nQ 1456 2553 1204 2497 \nQ 953 2441 691 2322 \nL 691 4666 \nz\n\" transform=\"scale(0.015625)\"/>\n       </defs>\n       <use xlink:href=\"#DejaVuSans-30\"/>\n       <use xlink:href=\"#DejaVuSans-2e\" x=\"63.623047\"/>\n       <use xlink:href=\"#DejaVuSans-35\" x=\"95.410156\"/>\n      </g>\n     </g>\n    </g>\n    <g id=\"ytick_3\">\n     <g id=\"line2d_15\">\n      <path d=\"M 30.103125 76.834175 \nL 225.403125 76.834175 \n\" clip-path=\"url(#pa2e8ce772f)\" style=\"fill: none; stroke: #b0b0b0; stroke-width: 0.8; stroke-linecap: square\"/>\n     </g>\n     <g id=\"line2d_16\">\n      <g>\n       <use xlink:href=\"#mcbb88775f9\" x=\"30.103125\" y=\"76.834175\" style=\"stroke: #000000; stroke-width: 0.8\"/>\n      </g>\n     </g>\n     <g id=\"text_9\">\n      <!-- 1.0 -->\n      <g transform=\"translate(7.2 80.633393) scale(0.1 -0.1)\">\n       <use xlink:href=\"#DejaVuSans-31\"/>\n       <use xlink:href=\"#DejaVuSans-2e\" x=\"63.623047\"/>\n       <use xlink:href=\"#DejaVuSans-30\" x=\"95.410156\"/>\n      </g>\n     </g>\n    </g>\n    <g id=\"ytick_4\">\n     <g id=\"line2d_17\">\n      <path d=\"M 30.103125 44.246421 \nL 225.403125 44.246421 \n\" clip-path=\"url(#pa2e8ce772f)\" style=\"fill: none; stroke: #b0b0b0; stroke-width: 0.8; stroke-linecap: square\"/>\n     </g>\n     <g id=\"line2d_18\">\n      <g>\n       <use xlink:href=\"#mcbb88775f9\" x=\"30.103125\" y=\"44.246421\" style=\"stroke: #000000; stroke-width: 0.8\"/>\n      </g>\n     </g>\n     <g id=\"text_10\">\n      <!-- 1.5 -->\n      <g transform=\"translate(7.2 48.045639) scale(0.1 -0.1)\">\n       <use xlink:href=\"#DejaVuSans-31\"/>\n       <use xlink:href=\"#DejaVuSans-2e\" x=\"63.623047\"/>\n       <use xlink:href=\"#DejaVuSans-35\" x=\"95.410156\"/>\n      </g>\n     </g>\n    </g>\n    <g id=\"ytick_5\">\n     <g id=\"line2d_19\">\n      <path d=\"M 30.103125 11.658667 \nL 225.403125 11.658667 \n\" clip-path=\"url(#pa2e8ce772f)\" style=\"fill: none; stroke: #b0b0b0; stroke-width: 0.8; stroke-linecap: square\"/>\n     </g>\n     <g id=\"line2d_20\">\n      <g>\n       <use xlink:href=\"#mcbb88775f9\" x=\"30.103125\" y=\"11.658667\" style=\"stroke: #000000; stroke-width: 0.8\"/>\n      </g>\n     </g>\n     <g id=\"text_11\">\n      <!-- 2.0 -->\n      <g transform=\"translate(7.2 15.457885) scale(0.1 -0.1)\">\n       <use xlink:href=\"#DejaVuSans-32\"/>\n       <use xlink:href=\"#DejaVuSans-2e\" x=\"63.623047\"/>\n       <use xlink:href=\"#DejaVuSans-30\" x=\"95.410156\"/>\n      </g>\n     </g>\n    </g>\n   </g>\n   <g id=\"line2d_21\">\n    <path d=\"M 28.523819 13.5 \nL 28.917241 25.959223 \nL 29.704083 39.697709 \nL 30.103125 44.652483 \nL 30.496546 71.76222 \nL 30.889968 73.648524 \nL 31.676811 78.426935 \nL 32.075852 80.175841 \nL 32.469274 92.210237 \nL 33.649538 93.541175 \nL 34.042959 94.454024 \nL 34.04858 94.445554 \nL 34.442001 101.621955 \nL 34.835422 101.796753 \nL 35.622265 101.82769 \nL 36.021307 102.264815 \nL 36.414728 107.619695 \nL 36.80815 108.050146 \nL 37.994034 108.385107 \nL 38.387455 111.611194 \nL 38.780877 112.091882 \nL 39.174298 111.720898 \nL 39.56772 111.745442 \nL 39.966761 111.947612 \nL 40.360183 116.24957 \nL 41.147026 114.87536 \nL 41.939489 114.813256 \nL 42.33291 117.846483 \nL 42.726331 117.876394 \nL 43.912216 117.242406 \nL 44.305637 120.774992 \nL 44.699059 121.05262 \nL 45.09248 120.421577 \nL 45.485901 120.316802 \nL 45.884943 120.459113 \nL 46.278365 122.825433 \nL 46.671786 122.452272 \nL 47.065207 122.601926 \nL 47.85767 122.307193 \nL 48.251092 124.612683 \nL 49.037935 123.850801 \nL 49.830398 123.658344 \nL 50.223819 125.524595 \nL 51.404083 124.986429 \nL 51.803125 124.968502 \nL 52.196546 127.717954 \nL 52.589968 128.185158 \nL 53.775852 127.296446 \nL 54.169274 128.638793 \nL 54.562695 128.406988 \nL 55.349538 128.309162 \nL 55.74858 128.315461 \nL 56.142001 129.140615 \nL 56.535422 129.212809 \nL 57.721307 128.969299 \nL 58.114728 130.765316 \nL 58.50815 130.748918 \nL 59.694034 129.948362 \nL 60.087455 131.019997 \nL 60.480877 130.765803 \nL 61.26772 131.169181 \nL 61.666761 131.282685 \nL 62.060183 133.166485 \nL 63.240447 132.696638 \nL 63.639489 132.517884 \nL 64.03291 133.501786 \nL 65.612216 132.843397 \nL 66.005637 133.86693 \nL 67.584943 133.268116 \nL 67.978365 134.547893 \nL 68.765207 134.456346 \nL 69.55767 134.494437 \nL 70.344513 135.423158 \nL 71.530398 135.057794 \nL 71.923819 135.681595 \nL 72.317241 135.494086 \nL 72.710662 135.6027 \nL 73.104083 135.384719 \nL 73.503125 135.363651 \nL 73.896546 136.080534 \nL 74.289968 136.061916 \nL 75.475852 135.593393 \nL 75.869274 136.212513 \nL 76.262695 136.51714 \nL 77.44858 136.380591 \nL 77.842001 136.925392 \nL 78.235422 137.172695 \nL 78.628844 136.998323 \nL 79.421307 136.874776 \nL 79.814728 137.478522 \nL 81.394034 137.107231 \nL 81.787455 137.50939 \nL 82.180877 137.600208 \nL 83.366761 137.425177 \nL 83.760183 137.677743 \nL 84.547026 137.584072 \nL 85.339489 137.596409 \nL 85.73291 137.874643 \nL 86.519753 138.06638 \nL 87.312216 137.948297 \nL 87.705637 138.191396 \nL 88.099059 138.167148 \nL 88.49248 138.024913 \nL 89.284943 138.014325 \nL 89.678365 138.45487 \nL 91.25767 138.206427 \nL 91.651092 138.98973 \nL 92.437935 138.973067 \nL 92.831356 138.795683 \nL 93.230398 138.740042 \nL 94.017241 138.989133 \nL 95.197505 139.022329 \nL 95.203125 139.025437 \nL 95.596546 139.465327 \nL 95.989968 139.5 \nL 96.383389 139.374618 \nL 96.383389 139.374618 \n\" clip-path=\"url(#pa2e8ce772f)\" style=\"fill: none; stroke: #1f77b4; stroke-width: 1.5; stroke-linecap: square\"/>\n   </g>\n   <g id=\"line2d_22\">\n    <path d=\"M 28.523819 123.904567 \nL 28.917241 119.511039 \nL 29.704083 114.319184 \nL 30.103125 112.468327 \nL 30.496546 101.878737 \nL 30.889968 101.129509 \nL 31.283389 100.096594 \nL 32.075852 98.711664 \nL 32.469274 94.073679 \nL 32.862695 93.997301 \nL 33.649538 93.624506 \nL 34.04858 93.287625 \nL 34.442001 91.062221 \nL 34.835422 90.825814 \nL 35.622265 90.851273 \nL 36.021307 90.688032 \nL 36.414728 88.741798 \nL 37.201571 88.533275 \nL 37.994034 88.523639 \nL 38.387455 87.330632 \nL 38.780877 87.126959 \nL 39.56772 87.367002 \nL 39.966761 87.296376 \nL 40.360183 85.854 \nL 41.147026 86.38743 \nL 41.939489 86.392611 \nL 42.33291 85.213883 \nL 43.912216 85.4961 \nL 44.305637 84.304626 \nL 44.699059 84.213701 \nL 45.485901 84.357363 \nL 45.884943 84.303652 \nL 46.278365 83.235341 \nL 46.671786 83.453562 \nL 47.065207 83.434165 \nL 47.85767 83.597178 \nL 48.251092 82.958927 \nL 49.037935 83.232916 \nL 49.830398 83.276581 \nL 50.223819 82.406099 \nL 51.010662 82.70676 \nL 51.803125 82.837029 \nL 52.196546 81.736886 \nL 52.589968 81.616864 \nL 53.775852 81.931814 \nL 54.169274 81.533212 \nL 54.956116 81.659296 \nL 55.74858 81.59671 \nL 56.142001 81.13314 \nL 57.721307 81.361702 \nL 58.114728 80.871274 \nL 58.50815 80.780348 \nL 59.694034 81.041105 \nL 60.087455 80.674874 \nL 60.480877 80.696696 \nL 61.26772 80.525756 \nL 61.666761 80.478247 \nL 62.060183 79.801988 \nL 63.639489 80.128637 \nL 64.03291 79.86018 \nL 64.819753 79.821386 \nL 65.612216 79.980669 \nL 66.005637 79.663781 \nL 67.584943 79.867517 \nL 67.978365 79.489204 \nL 68.371786 79.583766 \nL 69.55767 79.513554 \nL 70.344513 79.125501 \nL 71.530398 79.22197 \nL 71.923819 79.081857 \nL 73.503125 79.13348 \nL 73.896546 78.936376 \nL 75.475852 79.02468 \nL 76.262695 78.718154 \nL 77.44858 78.811432 \nL 77.842001 78.507207 \nL 78.235422 78.449014 \nL 79.022265 78.596314 \nL 79.421307 78.618494 \nL 79.814728 78.383548 \nL 81.394034 78.471976 \nL 81.787455 78.325355 \nL 89.284943 78.187646 \nL 89.678365 78.019845 \nL 91.25767 78.112211 \nL 91.651092 77.765253 \nL 95.596546 77.728883 \nL 96.383389 77.745856 \nL 96.383389 77.745856 \n\" clip-path=\"url(#pa2e8ce772f)\" style=\"fill: none; stroke-dasharray: 5.55,2.4; stroke-dashoffset: 0; stroke: #bf00bf; stroke-width: 1.5\"/>\n   </g>\n   <g id=\"line2d_23\">\n    <path d=\"M 30.103125 117.986659 \nL 32.075852 97.749873 \nL 34.04858 95.830642 \nL 36.021307 95.908978 \nL 37.994034 92.174964 \nL 39.966761 92.984436 \nL 41.939489 93.16722 \nL 43.912216 88.845687 \nL 45.884943 89.864054 \nL 47.85767 88.519287 \nL 49.830398 87.944823 \nL 51.803125 87.905655 \nL 53.775852 87.788151 \nL 55.74858 88.153719 \nL 57.721307 86.97868 \nL 59.694034 87.748983 \nL 61.666761 87.957879 \nL 63.639489 87.657591 \nL 65.612216 87.527032 \nL 67.584943 87.213688 \nL 69.55767 86.84812 \nL 71.530398 86.743672 \nL 73.503125 86.234488 \nL 75.475852 86.404216 \nL 77.44858 86.19532 \nL 79.421307 86.991736 \nL 81.394034 85.934201 \nL 83.366761 85.503353 \nL 85.339489 85.712249 \nL 87.312216 85.973369 \nL 89.284943 85.529465 \nL 91.25767 85.281401 \nL 93.230398 84.994169 \nL 95.203125 85.699193 \n\" clip-path=\"url(#pa2e8ce772f)\" style=\"fill: none; stroke-dasharray: 9.6,2.4,1.5,2.4; stroke-dashoffset: 0; stroke: #008000; stroke-width: 1.5\"/>\n   </g>\n   <g id=\"patch_3\">\n    <path d=\"M 30.103125 145.8 \nL 30.103125 7.2 \n\" style=\"fill: none; stroke: #000000; stroke-width: 0.8; stroke-linejoin: miter; stroke-linecap: square\"/>\n   </g>\n   <g id=\"patch_4\">\n    <path d=\"M 225.403125 145.8 \nL 225.403125 7.2 \n\" style=\"fill: none; stroke: #000000; stroke-width: 0.8; stroke-linejoin: miter; stroke-linecap: square\"/>\n   </g>\n   <g id=\"patch_5\">\n    <path d=\"M 30.103125 145.8 \nL 225.403125 145.8 \n\" style=\"fill: none; stroke: #000000; stroke-width: 0.8; stroke-linejoin: miter; stroke-linecap: square\"/>\n   </g>\n   <g id=\"patch_6\">\n    <path d=\"M 30.103125 7.2 \nL 225.403125 7.2 \n\" style=\"fill: none; stroke: #000000; stroke-width: 0.8; stroke-linejoin: miter; stroke-linecap: square\"/>\n   </g>\n   <g id=\"legend_1\">\n    <g id=\"patch_7\">\n     <path d=\"M 140.634375 59.234375 \nL 218.403125 59.234375 \nQ 220.403125 59.234375 220.403125 57.234375 \nL 220.403125 14.2 \nQ 220.403125 12.2 218.403125 12.2 \nL 140.634375 12.2 \nQ 138.634375 12.2 138.634375 14.2 \nL 138.634375 57.234375 \nQ 138.634375 59.234375 140.634375 59.234375 \nz\n\" style=\"fill: #ffffff; opacity: 0.8; stroke: #cccccc; stroke-linejoin: miter\"/>\n    </g>\n    <g id=\"line2d_24\">\n     <path d=\"M 142.634375 20.298438 \nL 152.634375 20.298438 \nL 162.634375 20.298438 \n\" style=\"fill: none; stroke: #1f77b4; stroke-width: 1.5; stroke-linecap: square\"/>\n    </g>\n    <g id=\"text_12\">\n     <!-- train loss -->\n     <g transform=\"translate(170.634375 23.798438) scale(0.1 -0.1)\">\n      <defs>\n       <path id=\"DejaVuSans-74\" d=\"M 1172 4494 \nL 1172 3500 \nL 2356 3500 \nL 2356 3053 \nL 1172 3053 \nL 1172 1153 \nQ 1172 725 1289 603 \nQ 1406 481 1766 481 \nL 2356 481 \nL 2356 0 \nL 1766 0 \nQ 1100 0 847 248 \nQ 594 497 594 1153 \nL 594 3053 \nL 172 3053 \nL 172 3500 \nL 594 3500 \nL 594 4494 \nL 1172 4494 \nz\n\" transform=\"scale(0.015625)\"/>\n       <path id=\"DejaVuSans-72\" d=\"M 2631 2963 \nQ 2534 3019 2420 3045 \nQ 2306 3072 2169 3072 \nQ 1681 3072 1420 2755 \nQ 1159 2438 1159 1844 \nL 1159 0 \nL 581 0 \nL 581 3500 \nL 1159 3500 \nL 1159 2956 \nQ 1341 3275 1631 3429 \nQ 1922 3584 2338 3584 \nQ 2397 3584 2469 3576 \nQ 2541 3569 2628 3553 \nL 2631 2963 \nz\n\" transform=\"scale(0.015625)\"/>\n       <path id=\"DejaVuSans-61\" d=\"M 2194 1759 \nQ 1497 1759 1228 1600 \nQ 959 1441 959 1056 \nQ 959 750 1161 570 \nQ 1363 391 1709 391 \nQ 2188 391 2477 730 \nQ 2766 1069 2766 1631 \nL 2766 1759 \nL 2194 1759 \nz\nM 3341 1997 \nL 3341 0 \nL 2766 0 \nL 2766 531 \nQ 2569 213 2275 61 \nQ 1981 -91 1556 -91 \nQ 1019 -91 701 211 \nQ 384 513 384 1019 \nQ 384 1609 779 1909 \nQ 1175 2209 1959 2209 \nL 2766 2209 \nL 2766 2266 \nQ 2766 2663 2505 2880 \nQ 2244 3097 1772 3097 \nQ 1472 3097 1187 3025 \nQ 903 2953 641 2809 \nL 641 3341 \nQ 956 3463 1253 3523 \nQ 1550 3584 1831 3584 \nQ 2591 3584 2966 3190 \nQ 3341 2797 3341 1997 \nz\n\" transform=\"scale(0.015625)\"/>\n       <path id=\"DejaVuSans-69\" d=\"M 603 3500 \nL 1178 3500 \nL 1178 0 \nL 603 0 \nL 603 3500 \nz\nM 603 4863 \nL 1178 4863 \nL 1178 4134 \nL 603 4134 \nL 603 4863 \nz\n\" transform=\"scale(0.015625)\"/>\n       <path id=\"DejaVuSans-6e\" d=\"M 3513 2113 \nL 3513 0 \nL 2938 0 \nL 2938 2094 \nQ 2938 2591 2744 2837 \nQ 2550 3084 2163 3084 \nQ 1697 3084 1428 2787 \nQ 1159 2491 1159 1978 \nL 1159 0 \nL 581 0 \nL 581 3500 \nL 1159 3500 \nL 1159 2956 \nQ 1366 3272 1645 3428 \nQ 1925 3584 2291 3584 \nQ 2894 3584 3203 3211 \nQ 3513 2838 3513 2113 \nz\n\" transform=\"scale(0.015625)\"/>\n       <path id=\"DejaVuSans-20\" transform=\"scale(0.015625)\"/>\n       <path id=\"DejaVuSans-6c\" d=\"M 603 4863 \nL 1178 4863 \nL 1178 0 \nL 603 0 \nL 603 4863 \nz\n\" transform=\"scale(0.015625)\"/>\n       <path id=\"DejaVuSans-73\" d=\"M 2834 3397 \nL 2834 2853 \nQ 2591 2978 2328 3040 \nQ 2066 3103 1784 3103 \nQ 1356 3103 1142 2972 \nQ 928 2841 928 2578 \nQ 928 2378 1081 2264 \nQ 1234 2150 1697 2047 \nL 1894 2003 \nQ 2506 1872 2764 1633 \nQ 3022 1394 3022 966 \nQ 3022 478 2636 193 \nQ 2250 -91 1575 -91 \nQ 1294 -91 989 -36 \nQ 684 19 347 128 \nL 347 722 \nQ 666 556 975 473 \nQ 1284 391 1588 391 \nQ 1994 391 2212 530 \nQ 2431 669 2431 922 \nQ 2431 1156 2273 1281 \nQ 2116 1406 1581 1522 \nL 1381 1569 \nQ 847 1681 609 1914 \nQ 372 2147 372 2553 \nQ 372 3047 722 3315 \nQ 1072 3584 1716 3584 \nQ 2034 3584 2315 3537 \nQ 2597 3491 2834 3397 \nz\n\" transform=\"scale(0.015625)\"/>\n      </defs>\n      <use xlink:href=\"#DejaVuSans-74\"/>\n      <use xlink:href=\"#DejaVuSans-72\" x=\"39.208984\"/>\n      <use xlink:href=\"#DejaVuSans-61\" x=\"80.322266\"/>\n      <use xlink:href=\"#DejaVuSans-69\" x=\"141.601562\"/>\n      <use xlink:href=\"#DejaVuSans-6e\" x=\"169.384766\"/>\n      <use xlink:href=\"#DejaVuSans-20\" x=\"232.763672\"/>\n      <use xlink:href=\"#DejaVuSans-6c\" x=\"264.550781\"/>\n      <use xlink:href=\"#DejaVuSans-6f\" x=\"292.333984\"/>\n      <use xlink:href=\"#DejaVuSans-73\" x=\"353.515625\"/>\n      <use xlink:href=\"#DejaVuSans-73\" x=\"405.615234\"/>\n     </g>\n    </g>\n    <g id=\"line2d_25\">\n     <path d=\"M 142.634375 34.976563 \nL 152.634375 34.976563 \nL 162.634375 34.976563 \n\" style=\"fill: none; stroke-dasharray: 5.55,2.4; stroke-dashoffset: 0; stroke: #bf00bf; stroke-width: 1.5\"/>\n    </g>\n    <g id=\"text_13\">\n     <!-- train acc -->\n     <g transform=\"translate(170.634375 38.476563) scale(0.1 -0.1)\">\n      <use xlink:href=\"#DejaVuSans-74\"/>\n      <use xlink:href=\"#DejaVuSans-72\" x=\"39.208984\"/>\n      <use xlink:href=\"#DejaVuSans-61\" x=\"80.322266\"/>\n      <use xlink:href=\"#DejaVuSans-69\" x=\"141.601562\"/>\n      <use xlink:href=\"#DejaVuSans-6e\" x=\"169.384766\"/>\n      <use xlink:href=\"#DejaVuSans-20\" x=\"232.763672\"/>\n      <use xlink:href=\"#DejaVuSans-61\" x=\"264.550781\"/>\n      <use xlink:href=\"#DejaVuSans-63\" x=\"325.830078\"/>\n      <use xlink:href=\"#DejaVuSans-63\" x=\"380.810547\"/>\n     </g>\n    </g>\n    <g id=\"line2d_26\">\n     <path d=\"M 142.634375 49.654688 \nL 152.634375 49.654688 \nL 162.634375 49.654688 \n\" style=\"fill: none; stroke-dasharray: 9.6,2.4,1.5,2.4; stroke-dashoffset: 0; stroke: #008000; stroke-width: 1.5\"/>\n    </g>\n    <g id=\"text_14\">\n     <!-- valid acc -->\n     <g transform=\"translate(170.634375 53.154688) scale(0.1 -0.1)\">\n      <defs>\n       <path id=\"DejaVuSans-76\" d=\"M 191 3500 \nL 800 3500 \nL 1894 563 \nL 2988 3500 \nL 3597 3500 \nL 2284 0 \nL 1503 0 \nL 191 3500 \nz\n\" transform=\"scale(0.015625)\"/>\n       <path id=\"DejaVuSans-64\" d=\"M 2906 2969 \nL 2906 4863 \nL 3481 4863 \nL 3481 0 \nL 2906 0 \nL 2906 525 \nQ 2725 213 2448 61 \nQ 2172 -91 1784 -91 \nQ 1150 -91 751 415 \nQ 353 922 353 1747 \nQ 353 2572 751 3078 \nQ 1150 3584 1784 3584 \nQ 2172 3584 2448 3432 \nQ 2725 3281 2906 2969 \nz\nM 947 1747 \nQ 947 1113 1208 752 \nQ 1469 391 1925 391 \nQ 2381 391 2643 752 \nQ 2906 1113 2906 1747 \nQ 2906 2381 2643 2742 \nQ 2381 3103 1925 3103 \nQ 1469 3103 1208 2742 \nQ 947 2381 947 1747 \nz\n\" transform=\"scale(0.015625)\"/>\n      </defs>\n      <use xlink:href=\"#DejaVuSans-76\"/>\n      <use xlink:href=\"#DejaVuSans-61\" x=\"59.179688\"/>\n      <use xlink:href=\"#DejaVuSans-6c\" x=\"120.458984\"/>\n      <use xlink:href=\"#DejaVuSans-69\" x=\"148.242188\"/>\n      <use xlink:href=\"#DejaVuSans-64\" x=\"176.025391\"/>\n      <use xlink:href=\"#DejaVuSans-20\" x=\"239.501953\"/>\n      <use xlink:href=\"#DejaVuSans-61\" x=\"271.289062\"/>\n      <use xlink:href=\"#DejaVuSans-63\" x=\"332.568359\"/>\n      <use xlink:href=\"#DejaVuSans-63\" x=\"387.548828\"/>\n     </g>\n    </g>\n   </g>\n  </g>\n </g>\n <defs>\n  <clipPath id=\"pa2e8ce772f\">\n   <rect x=\"30.103125\" y=\"7.2\" width=\"195.3\" height=\"138.6\"/>\n  </clipPath>\n </defs>\n</svg>\n"
          },
          "metadata": {}
        }
      ],
      "source": [
        "devices, num_epochs, lr, wd = d2l.try_all_gpus(), 100, 2e-4, 5e-4\n",
        "lr_period, lr_decay, net = 4, 0.9, get_net()\n",
        "train(net, train_iter, valid_iter, num_epochs, lr, wd, devices, lr_period,\n",
        "      lr_decay)"
      ]
    },
    {
      "cell_type": "markdown",
      "id": "7ebad777",
      "metadata": {
        "id": "7ebad777",
        "origin_pos": 51
      },
      "source": [
        "## 在 Kaggle 上[**对测试集进行分类并提交结果**]\n",
        "\n",
        "在获得具有超参数的满意的模型后，我们使用所有标记的数据（包括验证集）来重新训练模型并对测试集进行分类。\n"
      ]
    },
    {
      "cell_type": "code",
      "execution_count": null,
      "id": "92b85006",
      "metadata": {
        "execution": {
          "iopub.execute_input": "2023-08-18T07:03:21.098390Z",
          "iopub.status.busy": "2023-08-18T07:03:21.097395Z",
          "iopub.status.idle": "2023-08-18T07:04:21.878943Z",
          "shell.execute_reply": "2023-08-18T07:04:21.878089Z"
        },
        "id": "92b85006",
        "origin_pos": 53,
        "tab": [
          "pytorch"
        ]
      },
      "outputs": [],
      "source": [
        "net, preds = get_net(), []\n",
        "train(net, train_valid_iter, None, num_epochs, lr, wd, devices, lr_period,\n",
        "      lr_decay)\n",
        "\n",
        "for X, _ in test_iter:\n",
        "    y_hat = net(X.to(devices[0]))\n",
        "    preds.extend(y_hat.argmax(dim=1).type(torch.int32).cpu().numpy())\n",
        "sorted_ids = list(range(1, len(test_ds) + 1))\n",
        "sorted_ids.sort(key=lambda x: str(x))\n",
        "df = pd.DataFrame({'id': sorted_ids, 'label': preds})\n",
        "df['label'] = df['label'].apply(lambda x: train_valid_ds.classes[x])\n",
        "df.to_csv('submission.csv', index=False)"
      ]
    },
    {
      "cell_type": "markdown",
      "id": "b6c0bf49",
      "metadata": {
        "id": "b6c0bf49",
        "origin_pos": 55
      },
      "source": [
        "向Kaggle提交结果的方法与 :numref:`sec_kaggle_house`中的方法类似，上面的代码将生成一个\n",
        "`submission.csv`文件，其格式符合Kaggle竞赛的要求。\n",
        "\n",
        "## 小结\n",
        "\n",
        "* 将包含原始图像文件的数据集组织为所需格式后，我们可以读取它们。\n"
      ]
    },
    {
      "cell_type": "markdown",
      "id": "c9aff1dc",
      "metadata": {
        "id": "c9aff1dc",
        "origin_pos": 57,
        "tab": [
          "pytorch"
        ]
      },
      "source": [
        "* 我们可以在图像分类竞赛中使用卷积神经网络和图像增广。\n"
      ]
    },
    {
      "cell_type": "markdown",
      "id": "725588ee",
      "metadata": {
        "id": "725588ee",
        "origin_pos": 59
      },
      "source": [
        "## 练习\n",
        "\n",
        "1. 在这场Kaggle竞赛中使用完整的CIFAR-10数据集。将超参数设为`batch_size = 128`，`num_epochs = 100`，`lr = 0.1`，`lr_period = 50`，`lr_decay = 0.1`。看看在这场比赛中能达到什么准确度和排名。能进一步改进吗？\n",
        "1. 不使用图像增广时，能获得怎样的准确度？\n"
      ]
    },
    {
      "cell_type": "markdown",
      "id": "ae7f6d9e",
      "metadata": {
        "id": "ae7f6d9e",
        "origin_pos": 61,
        "tab": [
          "pytorch"
        ]
      },
      "source": [
        "[Discussions](https://discuss.d2l.ai/t/2831)\n"
      ]
    }
  ],
  "metadata": {
    "accelerator": "GPU",
    "colab": {
      "provenance": []
    },
    "kernelspec": {
      "display_name": "Python 3",
      "name": "python3"
    },
    "language_info": {
      "codemirror_mode": {
        "name": "ipython",
        "version": 3
      },
      "file_extension": ".py",
      "mimetype": "text/x-python",
      "name": "python",
      "nbconvert_exporter": "python",
      "pygments_lexer": "ipython3",
      "version": "3.8.19"
    },
    "required_libs": []
  },
  "nbformat": 4,
  "nbformat_minor": 5
}