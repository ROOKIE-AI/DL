{
 "cells": [
  {
   "cell_type": "markdown",
   "id": "7532a2f9",
   "metadata": {},
   "source": [
    "### 自动求导"
   ]
  },
  {
   "cell_type": "code",
   "execution_count": 3,
   "id": "d51023c5",
   "metadata": {
    "scrolled": true
   },
   "outputs": [
    {
     "data": {
      "text/plain": [
       "tensor([0., 1., 2., 3.])"
      ]
     },
     "execution_count": 3,
     "metadata": {},
     "output_type": "execute_result"
    }
   ],
   "source": [
    "#对y = x.Tx关于列向量x求导\n",
    "import torch\n",
    "\n",
    "x = torch.arange(4.0)\n",
    "x"
   ]
  },
  {
   "cell_type": "code",
   "execution_count": 4,
   "id": "d8640257",
   "metadata": {},
   "outputs": [],
   "source": [
    "#存储梯度\n",
    "x.requires_grad_(True)#等价于x = torch.arange(4.0,requires_grad=True)\n",
    "x.grad#默认值是None"
   ]
  },
  {
   "cell_type": "code",
   "execution_count": 5,
   "id": "4acb29fd",
   "metadata": {},
   "outputs": [
    {
     "data": {
      "text/plain": [
       "tensor(14., grad_fn=<DotBackward0>)"
      ]
     },
     "execution_count": 5,
     "metadata": {},
     "output_type": "execute_result"
    }
   ],
   "source": [
    "y = torch.dot(x,x)\n",
    "y\n",
    "#PyTorch隐式地构造计算图，grad_fn用于记录梯度计算"
   ]
  },
  {
   "cell_type": "markdown",
   "id": "48c06c84",
   "metadata": {},
   "source": [
    "##### 通过调用反向传播函数来自动计算y关于x每个分量的梯度"
   ]
  },
  {
   "cell_type": "code",
   "execution_count": 6,
   "id": "42059f93",
   "metadata": {},
   "outputs": [
    {
     "data": {
      "text/plain": [
       "tensor([0., 2., 4., 6.])"
      ]
     },
     "execution_count": 6,
     "metadata": {},
     "output_type": "execute_result"
    }
   ],
   "source": [
    "y.backward()\n",
    "x.grad"
   ]
  },
  {
   "cell_type": "code",
   "execution_count": 7,
   "id": "c676a11c",
   "metadata": {},
   "outputs": [
    {
     "data": {
      "text/plain": [
       "tensor([True, True, True, True])"
      ]
     },
     "execution_count": 7,
     "metadata": {},
     "output_type": "execute_result"
    }
   ],
   "source": [
    "x.grad==2*x#验证"
   ]
  },
  {
   "cell_type": "code",
   "execution_count": 8,
   "id": "0858c7ae",
   "metadata": {},
   "outputs": [
    {
     "data": {
      "text/plain": [
       "tensor([1., 1., 1., 1.])"
      ]
     },
     "execution_count": 8,
     "metadata": {},
     "output_type": "execute_result"
    }
   ],
   "source": [
    "# 在默认情况下，PyTorch会累积梯度，我们需要清除之前的值\n",
    "x.grad.zero_()#如果没有这一步结果就会加累上之前的梯度值，变为[1,5,9,13]\n",
    "y = x.sum()\n",
    "y.backward()\n",
    "x.grad"
   ]
  },
  {
   "cell_type": "code",
   "execution_count": 9,
   "id": "d2658dec",
   "metadata": {},
   "outputs": [
    {
     "data": {
      "text/plain": [
       "tensor([0., 2., 4., 6.])"
      ]
     },
     "execution_count": 9,
     "metadata": {},
     "output_type": "execute_result"
    }
   ],
   "source": [
    "x.grad.zero_()\n",
    "y=x*x#哈达玛积，对应元素相乘\n",
    "\n",
    "#在深度学习中我们一般不计算微分矩阵\n",
    "#而是计算批量中每个样本单独计算的偏导数之和\n",
    "\n",
    "y.sum().backward()#等价于y.backword(torch.ones(len(x)))\n",
    "x.grad"
   ]
  },
  {
   "cell_type": "markdown",
   "id": "f75207f6",
   "metadata": {},
   "source": [
    "##### 将某些计算移动到记录的计算图之外"
   ]
  },
  {
   "cell_type": "code",
   "execution_count": 10,
   "id": "c05cc7da",
   "metadata": {},
   "outputs": [
    {
     "data": {
      "text/plain": [
       "tensor([True, True, True, True])"
      ]
     },
     "execution_count": 10,
     "metadata": {},
     "output_type": "execute_result"
    }
   ],
   "source": [
    "# 后可用于用于将神经网络的一些参数固定住\n",
    "x.grad.zero_()\n",
    "y = x*x\n",
    "u = y.detach()#把y当作常数\n",
    "z = u*x\n",
    "\n",
    "z.sum().backward()\n",
    "x.grad == u"
   ]
  },
  {
   "cell_type": "code",
   "execution_count": 11,
   "id": "fedc7db6",
   "metadata": {},
   "outputs": [
    {
     "data": {
      "text/plain": [
       "tensor([True, True, True, True])"
      ]
     },
     "execution_count": 11,
     "metadata": {},
     "output_type": "execute_result"
    }
   ],
   "source": [
    "x.grad.zero_()\n",
    "y.sum().backward()\n",
    "x.grad == 2*x"
   ]
  },
  {
   "cell_type": "markdown",
   "id": "0e6f363b",
   "metadata": {},
   "source": [
    "##### 即使构建函数的计算图需要用过Python控制流，仍然可以计算得到的变量的梯度\n",
    "##### 这也是隐式构造的优势，因为它会存储梯度计算的计算图，再次计算时执行反向过程就可以"
   ]
  },
  {
   "cell_type": "code",
   "execution_count": 50,
   "id": "32abbe77",
   "metadata": {},
   "outputs": [
    {
     "data": {
      "text/plain": [
       "tensor(True)"
      ]
     },
     "execution_count": 50,
     "metadata": {},
     "output_type": "execute_result"
    }
   ],
   "source": [
    "def f(a):\n",
    "    b = a * 2\n",
    "    while b.norm()<1000:\n",
    "        b = b * 2\n",
    "    if b.sum() > 0:\n",
    "        c = b\n",
    "    else:\n",
    "        c = 100 * b\n",
    "    return c\n",
    "\n",
    "a = torch.randn(size=(),requires_grad=True)\n",
    "d = f(a)\n",
    "d.backward()\n",
    "\n",
    "a.grad == d / a"
   ]
  },
  {
   "cell_type": "markdown",
   "id": "19abf488",
   "metadata": {},
   "source": [
    "## 练习"
   ]
  },
  {
   "cell_type": "markdown",
   "id": "34e6b5b0",
   "metadata": {},
   "source": [
    "###### 1.为什么计算二阶导数比一阶导数的开销要更大？\n",
    "\n",
    "二阶导数是在一阶导数的基础上进行的，开销自然更大\n",
    "\n",
    "###### 2.在运行反向传播函数之后，立即再次运行它，看看会发生什么。\n",
    "\n",
    "\"RuntimeError: Trying to backward through the graph a second time (or directly access saved tensors after they have already been freed). Saved intermediate values of the graph are freed when you call .backward() or autograd.grad(). Specify retain_graph=True if you need to backward through the graph a second time or if you need to access saved tensors after calling backward.\"\n",
    "\n",
    "说明不能连续两次运行,pytorch使用的是动态计算图,反向传播函数运行一次后计算图就被释放了\n",
    "\n",
    "###### 只需要在函数接口将参数retain_graph设为True即可"
   ]
  },
  {
   "cell_type": "code",
   "execution_count": 51,
   "id": "5fbc86ca",
   "metadata": {},
   "outputs": [
    {
     "data": {
      "text/plain": [
       "tensor(4096.)"
      ]
     },
     "execution_count": 51,
     "metadata": {},
     "output_type": "execute_result"
    }
   ],
   "source": [
    "def f(a):\n",
    "    b = a * 2\n",
    "    while b.norm()<1000:\n",
    "        b = b * 2\n",
    "    if b.sum() > 0:\n",
    "        c = b\n",
    "    else:\n",
    "        c = 100 * b\n",
    "    return c\n",
    "a.grad.zero_()\n",
    "a = torch.randn(size=(),requires_grad=True)#size=0表示a是标量\n",
    "d = f(a)\n",
    "#d.backward(retain_graph=True)\n",
    "#a.grad\n",
    "d.backward()\n",
    "a.grad"
   ]
  },
  {
   "cell_type": "markdown",
   "id": "9a4d9fb7",
   "metadata": {},
   "source": [
    "###### 3.在控制流的例子中，我们计算d关于a的导数，如果我们将变量a更改为随机向量或矩阵，会发生什么？此时，计算结果f(a)不再是标量。结果会发生什么？我们如何分析这个结果？\n",
    "\n",
    "backward函数的机制本身不允许张量对张量求导，如果输入是向量或矩阵，需要将其在各个分量上求和，变为标量；所以还需要传入一个与输入同型的张量"
   ]
  },
  {
   "cell_type": "code",
   "execution_count": 53,
   "id": "18a2f050",
   "metadata": {},
   "outputs": [
    {
     "data": {
      "text/plain": [
       "tensor([51200., 51200., 51200., 51200., 51200., 51200., 51200., 51200., 51200.,\n",
       "        51200.])"
      ]
     },
     "execution_count": 53,
     "metadata": {},
     "output_type": "execute_result"
    }
   ],
   "source": [
    "def f(a):\n",
    "    b = a * 2\n",
    "    while b.norm()<1000:\n",
    "        b = b * 2\n",
    "    if b.sum() > 0:\n",
    "        c = b\n",
    "    else:\n",
    "        c = 100 * b\n",
    "    return c\n",
    "a.grad.zero_()\n",
    "a = torch.randn(10,requires_grad=True)\n",
    "d = f(a)\n",
    "#d.backward(retain_graph=True)\n",
    "#a.grad\n",
    "#d.backward()#RuntimeError: grad can be implicitly created only for scalar outputs\n",
    "d.sum().backward()#需要加上.sum()否则会报错 \n",
    "a.grad"
   ]
  },
  {
   "cell_type": "markdown",
   "id": "dd3fb9ce",
   "metadata": {},
   "source": [
    "###### 4.重新设计一个求控制流梯度的例子。运行并分析结果。"
   ]
  },
  {
   "cell_type": "code",
   "execution_count": 56,
   "id": "8ed6ca7d",
   "metadata": {},
   "outputs": [
    {
     "data": {
      "text/plain": [
       "tensor(-3311.5398)"
      ]
     },
     "execution_count": 56,
     "metadata": {},
     "output_type": "execute_result"
    }
   ],
   "source": [
    "def h(x):\n",
    "    y = x * x\n",
    "    while y.norm() < 2500:\n",
    "        y = y * 2\n",
    "    if y.sum() < 0:\n",
    "        c = 100*y\n",
    "    else:\n",
    "        c = y\n",
    "    return c\n",
    "x.grad.zero_()\n",
    "x = torch.randn(size=(),requires_grad=True)\n",
    "y = h(x)\n",
    "y.backward()\n",
    "x.grad"
   ]
  },
  {
   "cell_type": "markdown",
   "id": "90465db8",
   "metadata": {},
   "source": [
    "###### 5.使f(x)=sin(x)，绘制f(x)和df(x)/dx的图像，其中后者不使用f'(x)=\\cos(x)。"
   ]
  },
  {
   "cell_type": "code",
   "execution_count": 66,
   "id": "4adcde65",
   "metadata": {},
   "outputs": [
    {
     "data": {
      "text/plain": [
       "<matplotlib.legend.Legend at 0x1d627d00280>"
      ]
     },
     "execution_count": 66,
     "metadata": {},
     "output_type": "execute_result"
    },
    {
     "data": {
      "image/png": "[encoded data removed]",
      "text/plain": [
       "<Figure size 432x288 with 1 Axes>"
      ]
     },
     "metadata": {
      "needs_background": "light"
     },
     "output_type": "display_data"
    }
   ],
   "source": [
    "import matplotlib.pyplot as plt\n",
    "x = torch.arange(-20,20,0.1,requires_grad=True,dtype=torch.float32)\n",
    "y = torch.sin(x)\n",
    "y.sum().backward()\n",
    "plt.plot(x.detach(),y.detach(),label='y=sinx')\n",
    "plt.plot(x.detach(),x.grad,label='dy/dx')\n",
    "plt.legend(loc='lower right')"
   ]
  },
  {
   "cell_type": "code",
   "execution_count": null,
   "id": "067baf6b",
   "metadata": {},
   "outputs": [],
   "source": []
  }
 ],
 "metadata": {
  "kernelspec": {
   "display_name": "PyTorch_cpu",
   "language": "python",
   "name": "pytorch_cpu"
  },
  "language_info": {
   "codemirror_mode": {
    "name": "ipython",
    "version": 3
   },
   "file_extension": ".py",
   "mimetype": "text/x-python",
   "name": "python",
   "nbconvert_exporter": "python",
   "pygments_lexer": "ipython3",
   "version": "3.8.11"
  }
 },
 "nbformat": 4,
 "nbformat_minor": 5
}
