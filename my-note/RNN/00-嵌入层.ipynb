{
 "cells": [
  {
   "cell_type": "markdown",
   "metadata": {},
   "source": [
    "# 嵌入层"
   ]
  },
  {
   "cell_type": "code",
   "execution_count": 1,
   "metadata": {},
   "outputs": [
    {
     "name": "stdout",
     "output_type": "stream",
     "text": [
      "输入单词索引: tensor([1, 2, 3, 4])\n",
      "嵌入向量:\n",
      " tensor([[ 0.8587, -1.0266,  0.1921],\n",
      "        [ 0.1944,  2.1983, -1.0013],\n",
      "        [ 1.0994, -2.9978, -0.3623],\n",
      "        [-1.0944,  1.7106,  0.9900]], grad_fn=<EmbeddingBackward0>)\n"
     ]
    }
   ],
   "source": [
    "import torch\n",
    "import torch.nn as nn\n",
    "\n",
    "# 定义词汇表和嵌入维度\n",
    "vocab_size = 5  # 词汇表大小\n",
    "embed_size = 3  # 嵌入维度\n",
    "\n",
    "# 创建嵌入层\n",
    "embedding = nn.Embedding(vocab_size, embed_size)\n",
    "\n",
    "# 输入是一个包含单词索引的张量（例如，一个句子或一个批次的句子）\n",
    "input_indices = torch.tensor([1, 2, 3, 4])\n",
    "\n",
    "# 通过嵌入层转换索引为嵌入向量\n",
    "embedded_vectors = embedding(input_indices)\n",
    "\n",
    "print(\"输入单词索引:\", input_indices)\n",
    "print(\"嵌入向量:\\n\", embedded_vectors)"
   ]
  },
  {
   "cell_type": "code",
   "execution_count": null,
   "metadata": {},
   "outputs": [],
   "source": []
  }
 ],
 "metadata": {
  "kernelspec": {
   "display_name": "d2l",
   "language": "python",
   "name": "python3"
  },
  "language_info": {
   "codemirror_mode": {
    "name": "ipython",
    "version": 3
   },
   "file_extension": ".py",
   "mimetype": "text/x-python",
   "name": "python",
   "nbconvert_exporter": "python",
   "pygments_lexer": "ipython3",
   "version": "3.8.19"
  }
 },
 "nbformat": 4,
 "nbformat_minor": 2
}
