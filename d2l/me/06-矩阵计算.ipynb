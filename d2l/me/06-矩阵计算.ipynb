{
 "cells": [
  {
   "cell_type": "markdown",
   "metadata": {},
   "source": [
    "## 自动微分"
   ]
  },
  {
   "cell_type": "code",
   "execution_count": 2,
   "metadata": {},
   "outputs": [],
   "source": [
    "x = torch.arange(4.0, requires_grad=True)"
   ]
  },
  {
   "cell_type": "code",
   "execution_count": 3,
   "metadata": {},
   "outputs": [
    {
     "name": "stdout",
     "output_type": "stream",
     "text": [
      "None\n",
      "tensor([0., 1., 2., 3.], requires_grad=True)\n"
     ]
    }
   ],
   "source": [
    "print(x.grad)\n",
    "print(x)"
   ]
  },
  {
   "cell_type": "code",
   "execution_count": 4,
   "metadata": {},
   "outputs": [],
   "source": [
    "y = 2 * torch.dot(x, x) + (x**2)@x"
   ]
  },
  {
   "cell_type": "code",
   "execution_count": 5,
   "metadata": {},
   "outputs": [
    {
     "name": "stdout",
     "output_type": "stream",
     "text": [
      "tensor(64., grad_fn=<AddBackward0>)\n"
     ]
    }
   ],
   "source": [
    "print(y)"
   ]
  },
  {
   "cell_type": "code",
   "execution_count": 6,
   "metadata": {},
   "outputs": [],
   "source": [
    "y.backward()"
   ]
  },
  {
   "cell_type": "code",
   "execution_count": 7,
   "metadata": {},
   "outputs": [
    {
     "data": {
      "text/plain": [
       "tensor([ 0.,  7., 20., 39.])"
      ]
     },
     "execution_count": 7,
     "metadata": {},
     "output_type": "execute_result"
    }
   ],
   "source": [
    "x.grad"
   ]
  },
  {
   "cell_type": "code",
   "execution_count": 8,
   "metadata": {},
   "outputs": [],
   "source": [
    "delta = 0.1"
   ]
  },
  {
   "cell_type": "code",
   "execution_count": 9,
   "metadata": {},
   "outputs": [],
   "source": [
    "x = x.grad*delta"
   ]
  },
  {
   "cell_type": "code",
   "execution_count": 10,
   "metadata": {},
   "outputs": [
    {
     "name": "stdout",
     "output_type": "stream",
     "text": [
      "X: tensor([2., 3., 1., 4.], requires_grad=True)\n",
      "X.grad: tensor([ 6., 10.,  6., 11.])\n",
      "X: tensor([ 0.8000,  1.0000, -0.2000,  1.8000], requires_grad=True)\n",
      "X.grad: tensor([3.6000, 6.0000, 3.6000, 6.6000])\n",
      "X: tensor([ 0.0800, -0.2000, -0.9200,  0.4800], requires_grad=True)\n",
      "X.grad: tensor([2.1600, 3.6000, 2.1600, 3.9600])\n",
      "X: tensor([-0.3520, -0.9200, -1.3520, -0.3120], requires_grad=True)\n",
      "X.grad: tensor([1.2960, 2.1600, 1.2960, 2.3760])\n",
      "X: tensor([-0.6112, -1.3520, -1.6112, -0.7872], requires_grad=True)\n",
      "X.grad: tensor([0.7776, 1.2960, 0.7776, 1.4256])\n",
      "X: tensor([-0.7667, -1.6112, -1.7667, -1.0723], requires_grad=True)\n",
      "X.grad: tensor([0.4666, 0.7776, 0.4666, 0.8554])\n",
      "X: tensor([-0.8600, -1.7667, -1.8600, -1.2434], requires_grad=True)\n",
      "X.grad: tensor([0.2799, 0.4666, 0.2799, 0.5132])\n",
      "X: tensor([-0.9160, -1.8600, -1.9160, -1.3460], requires_grad=True)\n",
      "X.grad: tensor([0.1680, 0.2799, 0.1680, 0.3079])\n",
      "X: tensor([-0.9496, -1.9160, -1.9496, -1.4076], requires_grad=True)\n",
      "X.grad: tensor([0.1008, 0.1680, 0.1008, 0.1848])\n",
      "X: tensor([-0.9698, -1.9496, -1.9698, -1.4446], requires_grad=True)\n",
      "X.grad: tensor([0.0605, 0.1008, 0.0605, 0.1109])\n",
      "X: tensor([-0.9819, -1.9698, -1.9819, -1.4667], requires_grad=True)\n",
      "X.grad: tensor([0.0363, 0.0605, 0.0363, 0.0665])\n",
      "X: tensor([-0.9891, -1.9819, -1.9891, -1.4800], requires_grad=True)\n",
      "X.grad: tensor([0.0218, 0.0363, 0.0218, 0.0399])\n",
      "X: tensor([-0.9935, -1.9891, -1.9935, -1.4880], requires_grad=True)\n",
      "X.grad: tensor([0.0131, 0.0218, 0.0131, 0.0239])\n",
      "X: tensor([-0.9961, -1.9935, -1.9961, -1.4928], requires_grad=True)\n",
      "X.grad: tensor([0.0078, 0.0131, 0.0078, 0.0144])\n",
      "X: tensor([-0.9976, -1.9961, -1.9976, -1.4957], requires_grad=True)\n",
      "X.grad: tensor([0.0047, 0.0078, 0.0047, 0.0086])\n",
      "X: tensor([-0.9986, -1.9976, -1.9986, -1.4974], requires_grad=True)\n",
      "X.grad: tensor([0.0028, 0.0047, 0.0028, 0.0052])\n",
      "X: tensor([-0.9992, -1.9986, -1.9992, -1.4984], requires_grad=True)\n",
      "X.grad: tensor([0.0017, 0.0028, 0.0017, 0.0031])\n",
      "X: tensor([-0.9995, -1.9992, -1.9995, -1.4991], requires_grad=True)\n",
      "X.grad: tensor([0.0010, 0.0017, 0.0010, 0.0019])\n",
      "X: tensor([-0.9997, -1.9995, -1.9997, -1.4994], requires_grad=True)\n",
      "X.grad: tensor([0.0006, 0.0010, 0.0006, 0.0011])\n",
      "X: tensor([-0.9998, -1.9997, -1.9998, -1.4997], requires_grad=True)\n",
      "X.grad: tensor([0.0004, 0.0006, 0.0004, 0.0007])\n",
      "X: tensor([-0.9999, -1.9998, -1.9999, -1.4998], requires_grad=True)\n",
      "X.grad: tensor([0.0002, 0.0004, 0.0002, 0.0004])\n",
      "X: tensor([-0.9999, -1.9999, -1.9999, -1.4999], requires_grad=True)\n",
      "X.grad: tensor([0.0001, 0.0002, 0.0001, 0.0002])\n",
      "X: tensor([-1.0000, -1.9999, -2.0000, -1.4999], requires_grad=True)\n",
      "X.grad: tensor([7.8917e-05, 1.3161e-04, 7.8917e-05, 1.4472e-04])\n",
      "X: tensor([-1.0000, -2.0000, -2.0000, -1.5000], requires_grad=True)\n",
      "X.grad: tensor([4.7326e-05, 7.8917e-05, 4.7445e-05, 8.6784e-05])\n",
      "X: tensor([-1.0000, -2.0000, -2.0000, -1.5000], requires_grad=True)\n",
      "X.grad: tensor([2.8372e-05, 4.7445e-05, 2.8372e-05, 5.1975e-05])\n",
      "X: tensor([-1.0000, -2.0000, -2.0000, -1.5000], requires_grad=True)\n",
      "X.grad: tensor([1.7047e-05, 2.8372e-05, 1.6928e-05, 3.1233e-05])\n",
      "X: tensor([-1.0000, -2.0000, -2.0000, -1.5000], requires_grad=True)\n",
      "X.grad: tensor([1.0252e-05, 1.6928e-05, 1.0252e-05, 1.8835e-05])\n",
      "X: tensor([-1.0000, -2.0000, -2.0000, -1.5000], requires_grad=True)\n",
      "X.grad: tensor([6.1989e-06, 1.0252e-05, 6.1989e-06, 1.1206e-05])\n",
      "X: tensor([-1.0000, -2.0000, -2.0000, -1.5000], requires_grad=True)\n",
      "X.grad: tensor([3.6955e-06, 6.1989e-06, 3.8147e-06, 6.6757e-06])\n",
      "X: tensor([-1.0000, -2.0000, -2.0000, -1.5000], requires_grad=True)\n",
      "X.grad: tensor([2.2650e-06, 3.8147e-06, 2.3842e-06, 4.0531e-06])\n",
      "X: tensor([-1.0000, -2.0000, -2.0000, -1.5000], requires_grad=True)\n",
      "X.grad: tensor([1.3113e-06, 2.3842e-06, 1.4305e-06, 2.3842e-06])\n",
      "X: tensor([-1.0000, -2.0000, -2.0000, -1.5000], requires_grad=True)\n",
      "X.grad: tensor([8.3447e-07, 1.4305e-06, 9.5367e-07, 1.4305e-06])\n",
      "X: tensor([-1.0000, -2.0000, -2.0000, -1.5000], requires_grad=True)\n",
      "X.grad: tensor([4.7684e-07, 9.5367e-07, 4.7684e-07, 9.5367e-07])\n",
      "X: tensor([-1.0000, -2.0000, -2.0000, -1.5000], requires_grad=True)\n",
      "X.grad: tensor([2.3842e-07, 4.7684e-07, 2.3842e-07, 4.7684e-07])\n",
      "X: tensor([-1.0000, -2.0000, -2.0000, -1.5000], requires_grad=True)\n",
      "X.grad: tensor([1.1921e-07, 2.3842e-07, 2.3842e-07, 2.3842e-07])\n",
      "X: tensor([-1.0000, -2.0000, -2.0000, -1.5000], requires_grad=True)\n",
      "X.grad: tensor([1.1921e-07, 2.3842e-07, 2.3842e-07, 2.3842e-07])\n",
      "X: tensor([-1.0000, -2.0000, -2.0000, -1.5000], requires_grad=True)\n",
      "X.grad: tensor([1.1921e-07, 2.3842e-07, 2.3842e-07, 2.3842e-07])\n",
      "X: tensor([-1.0000, -2.0000, -2.0000, -1.5000], requires_grad=True)\n",
      "X.grad: tensor([1.1921e-07, 2.3842e-07, 2.3842e-07, 2.3842e-07])\n",
      "X: tensor([-1.0000, -2.0000, -2.0000, -1.5000], requires_grad=True)\n",
      "X.grad: tensor([1.1921e-07, 2.3842e-07, 2.3842e-07, 2.3842e-07])\n",
      "X: tensor([-1.0000, -2.0000, -2.0000, -1.5000], requires_grad=True)\n",
      "X.grad: tensor([1.1921e-07, 2.3842e-07, 2.3842e-07, 2.3842e-07])\n",
      "X: tensor([-1.0000, -2.0000, -2.0000, -1.5000], requires_grad=True)\n",
      "X.grad: tensor([1.1921e-07, 2.3842e-07, 2.3842e-07, 2.3842e-07])\n",
      "X: tensor([-1.0000, -2.0000, -2.0000, -1.5000], requires_grad=True)\n",
      "X.grad: tensor([1.1921e-07, 2.3842e-07, 2.3842e-07, 2.3842e-07])\n",
      "X: tensor([-1.0000, -2.0000, -2.0000, -1.5000], requires_grad=True)\n",
      "X.grad: tensor([1.1921e-07, 2.3842e-07, 2.3842e-07, 2.3842e-07])\n",
      "X: tensor([-1.0000, -2.0000, -2.0000, -1.5000], requires_grad=True)\n",
      "X.grad: tensor([1.1921e-07, 2.3842e-07, 2.3842e-07, 2.3842e-07])\n",
      "X: tensor([-1.0000, -2.0000, -2.0000, -1.5000], requires_grad=True)\n",
      "X.grad: tensor([1.1921e-07, 2.3842e-07, 2.3842e-07, 2.3842e-07])\n",
      "X: tensor([-1.0000, -2.0000, -2.0000, -1.5000], requires_grad=True)\n",
      "X.grad: tensor([1.1921e-07, 2.3842e-07, 2.3842e-07, 2.3842e-07])\n",
      "X: tensor([-1.0000, -2.0000, -2.0000, -1.5000], requires_grad=True)\n",
      "X.grad: tensor([1.1921e-07, 2.3842e-07, 2.3842e-07, 2.3842e-07])\n",
      "X: tensor([-1.0000, -2.0000, -2.0000, -1.5000], requires_grad=True)\n",
      "X.grad: tensor([1.1921e-07, 2.3842e-07, 2.3842e-07, 2.3842e-07])\n",
      "X: tensor([-1.0000, -2.0000, -2.0000, -1.5000], requires_grad=True)\n",
      "X.grad: tensor([1.1921e-07, 2.3842e-07, 2.3842e-07, 2.3842e-07])\n",
      "X: tensor([-1.0000, -2.0000, -2.0000, -1.5000], requires_grad=True)\n",
      "X.grad: tensor([1.1921e-07, 2.3842e-07, 2.3842e-07, 2.3842e-07])\n"
     ]
    }
   ],
   "source": [
    "# 梯度下降\n",
    "X = torch.Tensor([2, 3, 1, 4])\n",
    "delta = 0.2\n",
    "grad = torch.zeros_like(X)\n",
    "for i in range(50):\n",
    "    X = X - delta*grad   \n",
    "    X.requires_grad_(True)\n",
    "    Y = (X+torch.Tensor([1, 2, 2,1.5]))@(X+torch.Tensor([1, 2, 2,1.5]))\n",
    "    Y.backward()\n",
    "    print(f\"X: {X}\")\n",
    "    print(f\"X.grad: {X.grad}\")\n",
    "    grad = X.grad[:]\n",
    "    X.requires_grad_(False)"
   ]
  },
  {
   "cell_type": "code",
   "execution_count": null,
   "metadata": {},
   "outputs": [],
   "source": []
  }
 ],
 "metadata": {
  "kernelspec": {
   "display_name": "d2l",
   "language": "python",
   "name": "python3"
  },
  "language_info": {
   "codemirror_mode": {
    "name": "ipython",
    "version": 3
   },
   "file_extension": ".py",
   "mimetype": "text/x-python",
   "name": "python",
   "nbconvert_exporter": "python",
   "pygments_lexer": "ipython3",
   "version": "3.10.14"
  }
 },
 "nbformat": 4,
 "nbformat_minor": 2
}
